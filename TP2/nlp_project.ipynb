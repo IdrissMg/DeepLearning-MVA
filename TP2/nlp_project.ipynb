{
 "cells": [
  {
   "cell_type": "markdown",
   "metadata": {},
   "source": [
    "# Deep Learning for NLP - Project"
   ]
  },
  {
   "cell_type": "markdown",
   "metadata": {},
   "source": [
    "RULES:\n",
    "\n",
    "* Do not create any additional cell\n",
    "\n",
    "* Fill in the blanks\n",
    "\n",
    "* All cells should be runnable (modulo trivial compatibility bugs that we'd fix)\n",
    "\n",
    "* 4 / 20 points will be allocated to the clarity of your code\n",
    "\n",
    "* Efficient code will have a bonus\n",
    "\n",
    "DELIVERABLE:\n",
    "\n",
    "* this notebook\n",
    "* the predictions of the SST test set\n",
    "\n",
    "DO NOT INCLUDE THE DATASETS IN THE DELIVERABLE.."
   ]
  },
  {
   "cell_type": "code",
   "execution_count": 1,
   "metadata": {
    "collapsed": true
   },
   "outputs": [],
   "source": [
    "import io\n",
    "import os\n",
    "import numpy as np\n",
    "import scipy"
   ]
  },
  {
   "cell_type": "code",
   "execution_count": 2,
   "metadata": {
    "collapsed": true
   },
   "outputs": [],
   "source": [
    "PATH_TO_DATA = \"data/\""
   ]
  },
  {
   "cell_type": "markdown",
   "metadata": {},
   "source": [
    "# 1) Monolingual (English) word embeddings "
   ]
  },
  {
   "cell_type": "code",
   "execution_count": 3,
   "metadata": {
    "collapsed": true
   },
   "outputs": [],
   "source": [
    "class Word2vec():\n",
    "    def __init__(self, fname, nmax=100000):\n",
    "        self.load_wordvec(fname, nmax)\n",
    "#         self.word2id = dict.fromkeys(self.word2vec.keys(),np.arange(nmax))\n",
    "        self.word2id = {i:list(self.word2vec.keys()).index(i) for i in self.word2vec.keys()}\n",
    "        self.id2word = {v: k for k, v in self.word2id.items()}\n",
    "        self.embeddings = list(self.word2vec.values())\n",
    "    \n",
    "    def load_wordvec(self, fname, nmax):\n",
    "        self.word2vec = {}\n",
    "        with io.open(fname, encoding='utf-8') as f:\n",
    "            next(f)\n",
    "            for i, line in enumerate(f):\n",
    "                word, vec = line.split(' ', 1)\n",
    "                self.word2vec[word] = np.fromstring(vec, sep=' ')\n",
    "                if i == (nmax - 1):\n",
    "                    break\n",
    "        print('Loaded %s pretrained word vectors' % (len(self.word2vec)))\n",
    "\n",
    "    def most_similar(self, w, K=5):\n",
    "        # K most similar words: self.score  -  np.argsort \n",
    "        scores = np.array([self.score(w,w_) for w_ in self.word2vec.keys()])\n",
    "        best_scores = np.argsort(1-scores)[1:K+1] #We remove the first element because it corresponds to w\n",
    "        return [self.id2word[id_] for id_ in best_scores]\n",
    "\n",
    "    def score(self, w1, w2):\n",
    "        # cosine similarity: np.dot  -  np.linalg.norm\n",
    "        w1_ = w2v.embeddings[w2v.word2id[w1]]\n",
    "        w2_ = w2v.embeddings[w2v.word2id[w2]]\n",
    "        return np.dot(w1_,w2_)/(np.linalg.norm(w1_)*(np.linalg.norm(w2_)))"
   ]
  },
  {
   "cell_type": "code",
   "execution_count": 4,
   "metadata": {
    "collapsed": false
   },
   "outputs": [
    {
     "name": "stdout",
     "output_type": "stream",
     "text": [
      "Loaded 25000 pretrained word vectors\n",
      "cat dog 0.671683666279249\n",
      "dog pet 0.6842064029669219\n",
      "dogs cats 0.7074389328052404\n",
      "Paris France 0.7058595452409975\n",
      "Germany Berlin 0.7060253015336013\n",
      "['cats', 'kitty', 'kitten', 'Cat', 'dog']\n",
      "['dogs', 'puppy', 'Dog', 'canine', 'pup']\n",
      "['dog', 'Dogs', 'puppies', 'cats', 'canine']\n",
      "['Parisian', 'France', 'Versailles', 'Lyon', 'Bordeaux']\n",
      "['Austria', 'Bavaria', 'Berlin', 'Munich', 'German']\n"
     ]
    }
   ],
   "source": [
    "w2v = Word2vec(os.path.join(PATH_TO_DATA, 'crawl-300d-200k.vec'), nmax=25000)\n",
    "\n",
    "# You will be evaluated on the output of the following:\n",
    "for w1, w2 in zip(('cat', 'dog', 'dogs', 'Paris', 'Germany'), ('dog', 'pet', 'cats', 'France', 'Berlin')):\n",
    "    print(w1, w2, w2v.score(w1, w2))\n",
    "for w1 in ['cat', 'dog', 'dogs', 'Paris', 'Germany']:\n",
    "    print(w2v.most_similar(w1))"
   ]
  },
  {
   "cell_type": "code",
   "execution_count": 5,
   "metadata": {
    "collapsed": true
   },
   "outputs": [],
   "source": [
    "class BoV():\n",
    "    def __init__(self, w2v):\n",
    "        self.w2v = w2v\n",
    "    \n",
    "    def encode(self, sentences, idf=False):\n",
    "        # takes a list of sentences, outputs a numpy array of sentence embeddings\n",
    "        # see TP1 for help\n",
    "        sentemb = []\n",
    "        ind_nan = []\n",
    "        for idx,sent in enumerate(sentences):\n",
    "            if idf is False:\n",
    "                # mean of word vectors\n",
    "                tmp = sent.split(' ')\n",
    "                mean_vector = np.mean([w2v.embeddings[w2v.word2id[w]] for w in tmp\n",
    "                                        if w in self.w2v.word2vec.keys()],axis=0)\n",
    "                if np.isnan(mean_vector).any() == False:\n",
    "                    sentemb.append(mean_vector)\n",
    "                else:\n",
    "                    ind_nan.append(idx)\n",
    "\n",
    "            else:\n",
    "                # idf-weighted mean of word vectors\n",
    "                tmp = sent.split(' ')\n",
    "                weights = [idf[w] for w in tmp if w in self.w2v.word2vec.keys()]\n",
    "                #np.ma.average is more robust. returns nan when sum of weights is 0\n",
    "                avg_vector = np.ma.average([w2v.embeddings[w2v.word2id[w]] for w in tmp\n",
    "                                           if w in self.w2v.word2vec.keys()],axis = 0,\n",
    "                                           weights = weights)\n",
    "                if np.isnan(avg_vector).any() == False:\n",
    "                    sentemb.append(avg_vector)\n",
    "                else:\n",
    "                    ind_nan.append(idx)\n",
    "        \n",
    "        return np.array(sentemb),np.array(ind_nan)\n",
    "\n",
    "    def most_similar(self, s, sentences, idf=False, K=5):\n",
    "        # get most similar sentences and **print** them\n",
    "#         keys = self.encode(sentences, idf)\n",
    "#         query = self.encode([s], idf)\n",
    "        \n",
    "        scores = np.array([self.score(s,sent) for sent in sentences])\n",
    "        best_scores = np.argsort(1-scores)[1:K+1] #We remove the first element because it corresponds to s\n",
    "        \n",
    "        return [sentences[id_] for id_ in best_scores]\n",
    "\n",
    "    def score(self, s1, s2, idf=False):\n",
    "        # cosine similarity: use   np.dot  and  np.linalg.norm\n",
    "        s1_,_ = self.encode([s1], idf)\n",
    "        s2_,_ = self.encode([s2], idf)\n",
    "        if len(s1_) == 0 or len(s2_) == 0:\n",
    "            return -np.inf\n",
    "        else:\n",
    "            s1_ = s1_[0]\n",
    "            s2_ = s2_[0]\n",
    "        return np.dot(s1_,s2_)/(np.linalg.norm(s1_)*(np.linalg.norm(s2_)))        \n",
    "    \n",
    "    def build_idf(self, sentences):\n",
    "        # build the idf dictionary: associate each word to its idf value\n",
    "        idf = {}\n",
    "        for sent in sentences:\n",
    "            for w in sent.split(' '):\n",
    "                idf[w] = idf.get(w, 0) + 1\n",
    "        for word in idf.keys():\n",
    "            idf[word] = max(1, np.log10(len(sentences) / (idf[word])))\n",
    "        return idf"
   ]
  },
  {
   "cell_type": "code",
   "execution_count": 6,
   "metadata": {
    "collapsed": false
   },
   "outputs": [
    {
     "name": "stdout",
     "output_type": "stream",
     "text": [
      "Loaded 5000 pretrained word vectors\n"
     ]
    },
    {
     "name": "stderr",
     "output_type": "stream",
     "text": [
      "/home/idriss_mg/anaconda3/lib/python3.5/site-packages/numpy/core/fromnumeric.py:2920: RuntimeWarning: Mean of empty slice.\n",
      "  out=out, **kwargs)\n",
      "/home/idriss_mg/anaconda3/lib/python3.5/site-packages/numpy/core/_methods.py:85: RuntimeWarning: invalid value encountered in double_scalars\n",
      "  ret = ret.dtype.type(ret / rcount)\n"
     ]
    },
    {
     "name": "stdout",
     "output_type": "stream",
     "text": [
      "The most similar sentences to  1 smiling african american boy .  are ['blond boy waterskiing . ', 'a boy skateboarding . ', 'a boy smiles underwater . ', 'a boy jumps . ', 'a boy screams . ']\n",
      "The similarity between # 1 man singing and 1 man playing a saxophone in a concert .  and # 10 people venture out to go crosscountry skiing .  0.6089445116147133\n",
      "The most similar sentences to  1 smiling african american boy .  are ['blond boy waterskiing . ', 'a boy skateboarding . ', 'a boy smiles underwater . ', 'a boy jumps . ', 'a boy screams . ']\n",
      "The similarity between # 1 man singing and 1 man playing a saxophone in a concert .  and # 10 people venture out to go crosscountry skiing .  0.5960612293693168\n"
     ]
    }
   ],
   "source": [
    "w2v = Word2vec(os.path.join(PATH_TO_DATA, 'crawl-300d-200k.vec'), nmax=5000)\n",
    "s2v = BoV(w2v)\n",
    "\n",
    "# Load sentences in \"PATH_TO_DATA/sentences.txt\"\n",
    "sentences = []\n",
    "f = open(os.path.join(PATH_TO_DATA, 'sentences.txt'), \"r\")\n",
    "\n",
    "for line in f:\n",
    "    sentences.append(line.split('\\n')[0])\n",
    "\n",
    "# You will be evaluated on the output of the following:\n",
    "print('The most similar sentences to ','' if not sentences else sentences[10],'are',s2v.most_similar('' if not sentences \n",
    "                      else sentences[10], sentences))  # BoV-mean\n",
    "print('The similarity between #','' if not sentences else sentences[7],'and #','' if not sentences else \n",
    "                      sentences[13],s2v.score('' if not sentences else sentences[7], '' if not sentences else sentences[13]))\n",
    "\n",
    "# Build idf scores for each word\n",
    "idf = s2v.build_idf(sentences) \n",
    "print('The most similar sentences to ','' if not sentences else sentences[10],'are',s2v.most_similar('' if not sentences\n",
    "                      else sentences[10], sentences, idf))  # BoV-idf\n",
    "print('The similarity between #','' if not sentences else sentences[7],'and #','' if not sentences else\n",
    "                      sentences[13],s2v.score('' if not sentences else sentences[7], '' if not sentences else sentences[13],idf))"
   ]
  },
  {
   "cell_type": "markdown",
   "metadata": {},
   "source": [
    "# 2) Multilingual (English-French) word embeddings"
   ]
  },
  {
   "cell_type": "markdown",
   "metadata": {},
   "source": [
    "Let's consider a bilingual dictionary of size V_a (e.g French-English).\n",
    "\n",
    "Let's define **X** and **Y** the **French** and **English** matrices.\n",
    "\n",
    "They contain the embeddings associated to the words in the bilingual dictionary.\n",
    "\n",
    "We want to find a **mapping W** that will project the source word space (e.g French) to the target word space (e.g English).\n",
    "\n",
    "Procrustes : **W\\* = argmin || W.X - Y ||  s.t  W^T.W = Id**\n",
    "has a closed form solution:\n",
    "**W = U.V^T  where  U.Sig.V^T = SVD(Y.X^T)**\n",
    "\n",
    "In what follows, you are asked to: "
   ]
  },
  {
   "cell_type": "code",
   "execution_count": 9,
   "metadata": {
    "collapsed": true
   },
   "outputs": [],
   "source": [
    "# 1 - Download and load 50k first vectors of\n",
    "#     https://s3-us-west-1.amazonaws.com/fasttext-vectors/wiki.en.vec\n",
    "#     https://s3-us-west-1.amazonaws.com/fasttext-vectors/wiki.fr.vec\n",
    "\n",
    "# TYPE CODE HERE\n",
    "def load_wordvec(fname, nmax):\n",
    "    word2vec = {}\n",
    "    with io.open(fname, encoding='utf-8') as f:\n",
    "        next(f)\n",
    "        for i, line in enumerate(f):\n",
    "            word, vec = line.split(' ', 1)\n",
    "            word2vec[word] = np.fromstring(vec, sep=' ')\n",
    "            if i == (nmax - 1):\n",
    "                break\n",
    "    return word2vec\n",
    "    \n",
    "word2vec_en = load_wordvec(os.path.join(PATH_TO_DATA, 'wiki.en.vec'),nmax = 25000)\n",
    "word2vec_fr = load_wordvec(os.path.join(PATH_TO_DATA, 'wiki.fr.vec'),nmax = 25000)"
   ]
  },
  {
   "cell_type": "code",
   "execution_count": 23,
   "metadata": {
    "collapsed": true
   },
   "outputs": [],
   "source": [
    "# 2 - Get words that appear in both vocabs (= identical character strings)\n",
    "#     Use it to create the matrix X and Y (of aligned embeddings for these words)\n",
    "\n",
    "en_keys = list(word2vec_en.keys())\n",
    "fr_keys = list(word2vec_fr.keys())\n",
    "\n",
    "common_keys = list(set(en_keys) & set(fr_keys))\n",
    "\n",
    "X = np.array([word2vec_fr[key] for key in common_keys]).T\n",
    "Y = np.array([word2vec_en[key] for key in common_keys]).T"
   ]
  },
  {
   "cell_type": "code",
   "execution_count": 30,
   "metadata": {
    "collapsed": true
   },
   "outputs": [],
   "source": [
    "# 3 - Solve the Procrustes using the scipy package and: scipy.linalg.svd() and get the optimal W\n",
    "#     Now W*French_vector is in the same space as English_vector\n",
    "\n",
    "M = Y@(X.T)\n",
    "\n",
    "U,S,V = np.linalg.svd(M)\n",
    "\n",
    "W = U@V #W is of shape (300,300)"
   ]
  },
  {
   "cell_type": "code",
   "execution_count": 46,
   "metadata": {
    "collapsed": false
   },
   "outputs": [
    {
     "name": "stdout",
     "output_type": "stream",
     "text": [
      "the english words ['sea', 'coastline', 'mer', 'coasts', 'shore', 'seas'] correspond to the french word mer\n",
      "the english words ['cat', 'rabbit', 'squirrel', 'dog', 'rat', 'rabbits'] correspond to the french word chat\n",
      "the french words ['sky', 'earth', 'bird', 'blue', 'ciel', 'horizon'] correspond to the english word sky\n"
     ]
    }
   ],
   "source": [
    "# 4 - After alignment with W, give examples of English nearest neighbors of some French words (and vice versa)\n",
    "#     You will be evaluated on that part and the code above\n",
    "\n",
    "french_word1 = 'mer'\n",
    "f_word_emb1  = W.dot(word2vec_fr[french_word1])\n",
    "\n",
    "scores_fr_en = np.array([custom_metric(f_word_emb1,word2vec_en[key]) for key in word2vec_en.keys()])\n",
    "\n",
    "english_word1 = [list(word2vec_en.keys())[i] for i in np.argsort(scores_fr_en)[:6]]\n",
    "\n",
    "print('the english words {} correspond to the french word {}'.format(english_word1,french_word1))\n",
    "\n",
    "french_word2 = 'chat'\n",
    "f_word_emb2  = W.dot(word2vec_fr[french_word2])\n",
    "\n",
    "scores_fr_en = np.array([custom_metric(f_word_emb2,word2vec_en[key]) for key in word2vec_en.keys()])\n",
    "\n",
    "english_word2 = [list(word2vec_en.keys())[i] for i in np.argsort(scores_fr_en)[:6]]\n",
    "\n",
    "print('the english words {} correspond to the french word {}'.format(english_word2,french_word2))\n",
    "\n",
    "english_word1 = 'sky'\n",
    "e_word_emb1  = (W.T).dot(word2vec_en[english_word1])\n",
    "\n",
    "scores_en_fr = np.array([custom_metric(e_word_emb1,word2vec_fr[key]) for key in word2vec_fr.keys()])\n",
    "\n",
    "french_word1 = [list(word2vec_fr.keys())[i] for i in np.argsort(scores_en_fr)[:6]]\n",
    "\n",
    "print('the french words {} correspond to the english word {}'.format(french_word1,english_word1))\n"
   ]
  },
  {
   "cell_type": "markdown",
   "metadata": {},
   "source": [
    "If you want to dive deeper on this subject: https://github.com/facebookresearch/MUSE"
   ]
  },
  {
   "cell_type": "markdown",
   "metadata": {},
   "source": [
    "# 3) Sentence classification with BoV and scikit-learn"
   ]
  },
  {
   "cell_type": "code",
   "execution_count": 87,
   "metadata": {
    "collapsed": false
   },
   "outputs": [],
   "source": [
    "# 1 - Load train/dev/test of Stanford Sentiment TreeBank (SST)\n",
    "#     (https://nlp.stanford.edu/~socherr/EMNLP2013_RNTN.pdf)\n",
    "\n",
    "def load_sentences(filename):\n",
    "    sentences = []\n",
    "    labels = []\n",
    "    f = open(os.path.join(PATH_TO_DATA, filename), \"r\")\n",
    "    if 'test' in filename:\n",
    "        for line in f:\n",
    "            sentences.append(line.split('\\n')[0][2:])\n",
    "        return sentences\n",
    "    else:\n",
    "        for line in f:\n",
    "            sentences.append(line.split('\\n')[0][2:])\n",
    "            labels.append(int(line.split('\\n')[0][0]))\n",
    "        return sentences,np.array(labels)\n",
    "\n",
    "sentences_dev,labels_dev = load_sentences('SST/stsa.fine.dev')\n",
    "sentences_train,labels_train = load_sentences('SST/stsa.fine.train')\n",
    "sentences_test = load_sentences('SST/stsa.fine.test.X')"
   ]
  },
  {
   "cell_type": "code",
   "execution_count": 76,
   "metadata": {
    "collapsed": false
   },
   "outputs": [
    {
     "name": "stdout",
     "output_type": "stream",
     "text": [
      "Loaded 5000 pretrained word vectors\n"
     ]
    }
   ],
   "source": [
    "# 2 - Encode sentences with the BoV model above\n",
    "w2v = Word2vec(os.path.join(PATH_TO_DATA, 'crawl-300d-200k.vec'), nmax=5000)\n",
    "s2v = BoV(w2v)\n",
    "\n",
    "\"\"\"\n",
    "Mean encoding\n",
    "\"\"\"\n",
    "dev_emb,ind_nan_dev = s2v.encode(sentences_dev,idf=False)\n",
    "train_emb,ind_nan_train = s2v.encode(sentences_train,idf=False)\n",
    "test_emb,_ = s2v.encode(sentences_test,idf=False)\n",
    "\n",
    "\"\"\"\n",
    "Weighted average encoding\n",
    "\"\"\"\n",
    "idf = s2v.build_idf(sentences_dev) \n",
    "dev_emb_idf,_ = s2v.encode(sentences_dev,idf=idf) \n",
    "#ind_nan_XXX_idf is equal to ind_nan_XXX because the same elements are nan\n",
    "\n",
    "idf = s2v.build_idf(sentences_train) \n",
    "train_emb_idf,_ = s2v.encode(sentences_train,idf=idf)\n",
    "\n",
    "idf = s2v.build_idf(sentences_test) \n",
    "test_emb_idf,_ = s2v.encode(sentences_test,idf=idf)"
   ]
  },
  {
   "cell_type": "code",
   "execution_count": 96,
   "metadata": {
    "collapsed": false
   },
   "outputs": [
    {
     "name": "stdout",
     "output_type": "stream",
     "text": [
      "The best validation score is  0.38782924613987285\n",
      "The training score corresponding is  0.4213792295984077\n",
      "The best validation score when using idf is  0.3851044504995459\n",
      "The training score corresponding is  0.43414120126448896\n"
     ]
    }
   ],
   "source": [
    "# # 3 - Learn Logistic Regression on top of sentence embeddings using scikit-learn\n",
    "# #     (consider tuning the L2 regularization on the dev set)\n",
    "import warnings \n",
    "warnings.filterwarnings(\"ignore\")\n",
    "\n",
    "sentences_dev,labels_dev = load_sentences('SST/stsa.fine.dev')\n",
    "sentences_train,labels_train = load_sentences('SST/stsa.fine.train')\n",
    "\n",
    "from sklearn.linear_model import LogisticRegression\n",
    "from sklearn.metrics import accuracy_score\n",
    "from sklearn.model_selection import cross_val_score\n",
    "from sklearn.model_selection import ParameterSampler,ParameterGrid\n",
    "    \n",
    "if len(ind_nan_train) != 0 :\n",
    "    nan_mask = np.ones(len(labels_train),dtype=bool)\n",
    "    nan_mask[ind_nan_train] = False\n",
    "    labels_train = labels_train[nan_mask]\n",
    "\n",
    "if len(ind_nan_dev) != 0:\n",
    "    nan_mask = np.ones(len(labels_dev),dtype=bool)\n",
    "    nan_mask[ind_nan_dev] = False\n",
    "    labels_dev = labels_dev[nan_mask]\n",
    "\n",
    "param_grid = {'C':[2**n for n in [-1,0,1,2,3,4,5,6,7]]}\n",
    "param_list = list(ParameterGrid(param_grid))\n",
    "\n",
    "logreg = LogisticRegression(penalty = 'l2',multi_class='auto')\n",
    "\n",
    "def evaluate_prediction(clf,param_list,x_train,y_train,x_val,y_val):\n",
    "    \"\"\"\n",
    "    clf: (object) classifier\n",
    "    param_list: (dict) parameters of the classifier\n",
    "    \"\"\"\n",
    "    accuracy_train = []\n",
    "    accuracy_val   = []\n",
    "    for params in param_list:\n",
    "        if hasattr(clf,'set_params'):\n",
    "            clf = clf.set_params(**params)\n",
    "        else:\n",
    "            raise ValueError('The attribute \"set_params\" is not defined for the chosen classifier')\n",
    "\n",
    "        clf.fit(x_train,y_train)\n",
    "        output_train = clf.predict(x_train)\n",
    "        accuracy_train.append(accuracy_score(output_train,y_train))\n",
    "\n",
    "        output = clf.predict(x_val)\n",
    "        accuracy_val.append(accuracy_score(output,y_val))\n",
    "        \n",
    "    return accuracy_train,accuracy_val\n",
    "\n",
    "acc_train,acc_val = evaluate_prediction(logreg,param_list,train_emb,labels_train,dev_emb,labels_dev)\n",
    "print('The best validation score is ',np.max(acc_val))\n",
    "print('The training score corresponding is ', acc_train[np.argmax(acc_val)])\n",
    "\n",
    "acc_train_idf,acc_val_idf = evaluate_prediction(logreg,param_list,train_emb_idf,labels_train,dev_emb_idf,labels_dev)\n",
    "print('The best validation score when using idf is ',np.max(acc_val_idf))\n",
    "print('The training score corresponding is ', acc_train_idf[np.argmax(acc_val_idf)])"
   ]
  },
  {
   "cell_type": "code",
   "execution_count": 99,
   "metadata": {
    "collapsed": true
   },
   "outputs": [],
   "source": [
    "# 4 - Produce 2210 predictions for the test set (in the same order). One line = one prediction (=0,1,2,3,4).\n",
    "#     Attach the output file \"logreg_bov_y_test_sst.txt\" to your deliverable.\n",
    "#     You will be evaluated on the results of the test set.\n",
    "\n",
    "# Using the mean BOV instead of the weighted average yields better results\n",
    "clf = LogisticRegression(penalty='l2')\n",
    "clf = clf.set_params(**param_list[np.argmax(acc_val)])\n",
    "\n",
    "clf.fit(train_emb,labels_train)\n",
    "\n",
    "output = clf.predict(test_emb)\n",
    "\n",
    "file = open(os.path.join(PATH_TO_DATA, \"logreg_bov_y_test_sst.txt\"),\"w\") \n",
    "for elem in output:\n",
    "    file.write(str(elem)+'\\n')\n",
    "file.close()"
   ]
  },
  {
   "cell_type": "code",
   "execution_count": 104,
   "metadata": {
    "collapsed": false
   },
   "outputs": [
    {
     "name": "stdout",
     "output_type": "stream",
     "text": [
      "The best validation score is  0.37693006357856496\n",
      "The training score corresponding is  0.9878234398782344\n",
      "The best validation score when using idf is  0.37057220708446864\n",
      "The training score corresponding is  0.9878234398782344\n",
      "Using mean BOV is better than using IDF\n"
     ]
    }
   ],
   "source": [
    "# BONUS!\n",
    "# 5 - Try to improve performance with another classifier\n",
    "#     Attach the output file \"XXX_bov_y_test_sst.txt\" to your deliverable (where XXX = the name of the classifier)\n",
    "\n",
    "from xgboost import XGBClassifier\n",
    "\n",
    "param_grid = {'n_estimators': [100,150,200,300],'max_depth': [3,5,7],'learning_rate' : [0.01,0.03,0.05,0.1],\n",
    "              'colsample_bylevel':[0.7,0.8,0.9,1],'objective':['multi:softmax']}\n",
    "n_iter = 5\n",
    "param_list_xgb = list(ParameterSampler(param_grid, n_iter=n_iter,random_state = 42))\n",
    "\n",
    "xgb = XGBClassifier(n_jobs = -1)\n",
    "acc_train_xgb,acc_val_xgb = evaluate_prediction(xgb,param_list_xgb,train_emb,labels_train,dev_emb,labels_dev)\n",
    "print('The best validation score is ',np.max(acc_val_xgb))\n",
    "print('The training score corresponding is ', acc_train_xgb[np.argmax(acc_val_xgb)])\n",
    "\n",
    "xgb = XGBClassifier(n_jobs = -1)\n",
    "acc_train_idf_xgb,acc_val_idf_xgb = evaluate_prediction(xgb,param_list_xgb,train_emb_idf,labels_train,dev_emb_idf,labels_dev)\n",
    "print('The best validation score when using idf is ',np.max(acc_val_idf_xgb))\n",
    "print('The training score corresponding is ', acc_train_idf_xgb[np.argmax(acc_val_idf_xgb)])\n",
    "\n",
    "\n",
    "if np.max(acc_val_xgb) > np.max(acc_val_idf_xgb):\n",
    "    print('Using mean BOV is better than using IDF')\n",
    "    best_xgb = XGBClassifier(n_jobs = -1).set_params(**param_list_xgb[np.argmax(acc_val_xgb)])\n",
    "    best_xgb.fit(train_emb,labels_train)\n",
    "    \n",
    "    output_xgb = best_xgb.predict(test_emb)\n",
    "\n",
    "    file = open(os.path.join(PATH_TO_DATA, \"XGB_bov_y_test_sst.txt\"),\"w\") \n",
    "    for elem in output_xgb:\n",
    "        file.write(str(elem)+'\\n')\n",
    "    file.close()\n",
    "else:\n",
    "    print('Using IDF is better than using mean BOV')\n",
    "    best_xgb = XGBClassifier(n_jobs = -1).set_params(**param_list_xgb[np.argmax(acc_val_idf_xgb)])\n",
    "    \n",
    "    best_xgb.fit(train_emb_idf,labels_train)\n",
    "\n",
    "    output_xgb = best_xgb.predict(test_emb_idf)\n",
    "\n",
    "    file = open(os.path.join(PATH_TO_DATA, \"XGB_bov_y_test_sst.txt\"),\"w\") \n",
    "    for elem in output_xgb:\n",
    "        file.write(str(elem)+'\\n')\n",
    "    file.close()"
   ]
  },
  {
   "cell_type": "markdown",
   "metadata": {},
   "source": [
    "# 4) Sentence classification with LSTMs in Keras"
   ]
  },
  {
   "cell_type": "markdown",
   "metadata": {},
   "source": [
    "## 4.1 - Preprocessing"
   ]
  },
  {
   "cell_type": "code",
   "execution_count": 3,
   "metadata": {
    "collapsed": false
   },
   "outputs": [
    {
     "name": "stderr",
     "output_type": "stream",
     "text": [
      "Using TensorFlow backend.\n"
     ]
    }
   ],
   "source": [
    "import keras"
   ]
  },
  {
   "cell_type": "code",
   "execution_count": 4,
   "metadata": {
    "collapsed": false
   },
   "outputs": [],
   "source": [
    "# 1 - Load train/dev/test sets of SST\n",
    "PATH_TO_DATA = \"data/\"\n",
    "\n",
    "def load_sentences(filename):\n",
    "    sentences = []\n",
    "    labels = []\n",
    "    f = open(os.path.join(PATH_TO_DATA, filename), \"r\")\n",
    "    if 'test' in filename:\n",
    "        for line in f:\n",
    "            sentences.append(line.split('\\n')[0][2:])\n",
    "        return sentences\n",
    "    else:\n",
    "        for line in f:\n",
    "            sentences.append(line.split('\\n')[0][2:])\n",
    "            labels.append(int(line.split('\\n')[0][0]))\n",
    "        return sentences,np.array(labels)\n",
    "\n",
    "x_dev,y_dev = load_sentences('SST/stsa.fine.dev')\n",
    "x_train,y_train = load_sentences('SST/stsa.fine.train')\n",
    "x_test = load_sentences('SST/stsa.fine.test.X')"
   ]
  },
  {
   "cell_type": "code",
   "execution_count": 5,
   "metadata": {
    "collapsed": false
   },
   "outputs": [],
   "source": [
    "# 2 - Transform text to integers using keras.preprocessing.text.one_hot function\n",
    "#     https://keras.io/preprocessing/text/\n",
    "\n",
    "from keras.utils import to_categorical\n",
    "\n",
    "y_train = to_categorical(y_train)\n",
    "y_dev   = to_categorical(y_dev)\n",
    "\n",
    "from keras.preprocessing import text\n",
    "\n",
    "all_sentences = x_train + x_dev + x_test\n",
    "\n",
    "vocabulary = set([w for sent in all_sentences for w in sent.split()])\n",
    "MAX_SENT   = np.max([len(sent.split(' ')) for sent in all_sentences])\n",
    "VOCAB_SIZE = len(vocabulary)\n",
    "\n",
    "x_train_oh = [text.one_hot(elem,VOCAB_SIZE) for elem in x_train]\n",
    "x_dev_oh   = [text.one_hot(elem,VOCAB_SIZE) for elem in x_dev]\n",
    "x_test_oh  = [text.one_hot(elem,VOCAB_SIZE) for elem in x_test]"
   ]
  },
  {
   "cell_type": "markdown",
   "metadata": {},
   "source": [
    "**Padding input data**\n",
    "\n",
    "Models in Keras (and elsewhere) take batches of sentences of the same length as input. It is because Deep Learning framework have been designed to handle well Tensors, which are particularly suited for fast computation on the GPU.\n",
    "\n",
    "Since sentences have different sizes, we \"pad\" them. That is, we add dummy \"padding\" tokens so that they all have the same length.\n",
    "\n",
    "The input to a Keras model thus has this size : (batchsize, maxseqlen) where maxseqlen is the maximum length of a sentence in the batch."
   ]
  },
  {
   "cell_type": "code",
   "execution_count": 7,
   "metadata": {
    "collapsed": true
   },
   "outputs": [],
   "source": [
    "# 3 - Pad your sequences using keras.preprocessing.sequence.pad_sequences\n",
    "#     https://keras.io/preprocessing/sequence/\n",
    "\n",
    "from keras.preprocessing.sequence import pad_sequences\n",
    "\n",
    "x_train_pad = pad_sequences(x_train_oh, maxlen=MAX_SENT)\n",
    "x_dev_pad = pad_sequences(x_dev_oh, maxlen=MAX_SENT)\n",
    "x_test_pad = pad_sequences(x_test_oh,maxlen=MAX_SENT)"
   ]
  },
  {
   "cell_type": "markdown",
   "metadata": {},
   "source": [
    "## 4.2 - Design and train your model"
   ]
  },
  {
   "cell_type": "code",
   "execution_count": 41,
   "metadata": {
    "collapsed": false
   },
   "outputs": [],
   "source": [
    "# 4 - Design your encoder + classifier using keras.layers\n",
    "#     In Keras, Torch and other deep learning framework, we create a \"container\" which is the Sequential() module.\n",
    "#     Then we add components to this contained : the lookuptable, the LSTM, the classifier etc.\n",
    "#     All of these components are contained in the Sequential() and are trained together.\n",
    "\n",
    "\n",
    "from keras.models import Sequential\n",
    "from keras.layers import Embedding, LSTM, Dense, Activation\n",
    "from keras import regularizers\n",
    "from keras.callbacks import ModelCheckpoint,EarlyStopping\n",
    "\n",
    "embed_dim  = 300  # word embedding dimension\n",
    "nhid       = 64  # number of hidden units in the LSTM\n",
    "n_classes  = 5\n",
    "\n",
    "model = Sequential()\n",
    "model.add(Embedding(VOCAB_SIZE, embed_dim))\n",
    "model.add(LSTM(nhid, dropout=0.5, recurrent_dropout=0.3, kernel_regularizer = regularizers.l2(0.1)))\n",
    "model.add(Dense(n_classes, activation='softmax'))"
   ]
  },
  {
   "cell_type": "code",
   "execution_count": 42,
   "metadata": {
    "collapsed": false
   },
   "outputs": [
    {
     "name": "stdout",
     "output_type": "stream",
     "text": [
      "_________________________________________________________________\n",
      "Layer (type)                 Output Shape              Param #   \n",
      "=================================================================\n",
      "embedding_10 (Embedding)     (None, None, 300)         5982300   \n",
      "_________________________________________________________________\n",
      "lstm_10 (LSTM)               (None, 64)                93440     \n",
      "_________________________________________________________________\n",
      "dense_10 (Dense)             (None, 5)                 325       \n",
      "=================================================================\n",
      "Total params: 6,076,065\n",
      "Trainable params: 6,076,065\n",
      "Non-trainable params: 0\n",
      "_________________________________________________________________\n",
      "None\n"
     ]
    }
   ],
   "source": [
    "# 5 - Define your loss/optimizer/metrics\n",
    "\n",
    "loss_classif     =  'categorical_crossentropy' # find the right loss for multi-class classification\n",
    "optimizer        =  'Adam' # find the right optimizer\n",
    "metrics_classif  =  ['accuracy']\n",
    "\n",
    "# Observe how easy (but blackboxed) this is in Keras\n",
    "model.compile(loss=loss_classif,\n",
    "              optimizer=optimizer,\n",
    "              metrics=metrics_classif)\n",
    "print(model.summary())"
   ]
  },
  {
   "cell_type": "code",
   "execution_count": 43,
   "metadata": {
    "collapsed": false,
    "scrolled": true
   },
   "outputs": [
    {
     "name": "stderr",
     "output_type": "stream",
     "text": [
      "/home/idriss_mg/anaconda3/lib/python3.5/site-packages/matplotlib/__init__.py:1350: UserWarning:  This call to matplotlib.use() has no effect\n",
      "because the backend has already been chosen;\n",
      "matplotlib.use() must be called *before* pylab, matplotlib.pyplot,\n",
      "or matplotlib.backends is imported for the first time.\n",
      "\n",
      "  warnings.warn(_use_error_msg)\n",
      "/home/idriss_mg/anaconda3/lib/python3.5/site-packages/ipykernel/__main__.py:20: UserWarning: The `nb_epoch` argument in `fit` has been renamed `epochs`.\n"
     ]
    },
    {
     "name": "stdout",
     "output_type": "stream",
     "text": [
      "Train on 8544 samples, validate on 1101 samples\n",
      "Epoch 1/40\n",
      "8544/8544 [==============================] - 21s 2ms/step - loss: 12.9976 - acc: 0.2677 - val_loss: 4.1040 - val_acc: 0.2534\n",
      "\n",
      "Epoch 00001: saving model to weights_LSTM-01-0.25.hdf5\n",
      "Epoch 2/40\n",
      "8544/8544 [==============================] - 18s 2ms/step - loss: 2.3975 - acc: 0.2979 - val_loss: 1.6785 - val_acc: 0.2534\n",
      "\n",
      "Epoch 00002: saving model to weights_LSTM-02-0.25.hdf5\n",
      "Epoch 3/40\n",
      "8544/8544 [==============================] - 18s 2ms/step - loss: 1.5928 - acc: 0.2999 - val_loss: 1.5722 - val_acc: 0.2879\n",
      "\n",
      "Epoch 00003: saving model to weights_LSTM-03-0.29.hdf5\n",
      "Epoch 4/40\n",
      "8544/8544 [==============================] - 18s 2ms/step - loss: 1.5387 - acc: 0.3422 - val_loss: 1.4995 - val_acc: 0.3697\n",
      "\n",
      "Epoch 00004: saving model to weights_LSTM-04-0.37.hdf5\n",
      "Epoch 5/40\n",
      "8544/8544 [==============================] - 18s 2ms/step - loss: 1.4266 - acc: 0.4143 - val_loss: 1.4584 - val_acc: 0.3933\n",
      "\n",
      "Epoch 00005: saving model to weights_LSTM-05-0.39.hdf5\n",
      "Epoch 6/40\n",
      "8544/8544 [==============================] - 18s 2ms/step - loss: 1.3105 - acc: 0.4575 - val_loss: 1.4537 - val_acc: 0.3851\n",
      "\n",
      "Epoch 00006: saving model to weights_LSTM-06-0.39.hdf5\n",
      "Epoch 7/40\n",
      "8544/8544 [==============================] - 18s 2ms/step - loss: 1.2259 - acc: 0.4941 - val_loss: 1.4702 - val_acc: 0.3869\n",
      "\n",
      "Epoch 00007: saving model to weights_LSTM-07-0.39.hdf5\n",
      "Epoch 8/40\n",
      "8544/8544 [==============================] - 18s 2ms/step - loss: 1.1464 - acc: 0.5303 - val_loss: 1.5527 - val_acc: 0.3924\n",
      "\n",
      "Epoch 00008: saving model to weights_LSTM-08-0.39.hdf5\n",
      "Epoch 9/40\n",
      "8544/8544 [==============================] - 18s 2ms/step - loss: 1.0827 - acc: 0.5674 - val_loss: 1.5719 - val_acc: 0.3987\n",
      "\n",
      "Epoch 00009: saving model to weights_LSTM-09-0.40.hdf5\n",
      "Epoch 10/40\n",
      "8544/8544 [==============================] - 18s 2ms/step - loss: 1.0266 - acc: 0.6057 - val_loss: 1.5847 - val_acc: 0.3778\n",
      "\n",
      "Epoch 00010: saving model to weights_LSTM-10-0.38.hdf5\n",
      "Epoch 11/40\n",
      "8544/8544 [==============================] - 18s 2ms/step - loss: 0.9572 - acc: 0.6463 - val_loss: 1.6265 - val_acc: 0.3515\n",
      "\n",
      "Epoch 00011: saving model to weights_LSTM-11-0.35.hdf5\n",
      "Epoch 12/40\n",
      "8544/8544 [==============================] - 18s 2ms/step - loss: 0.8942 - acc: 0.6829 - val_loss: 1.7438 - val_acc: 0.3551\n",
      "\n",
      "Epoch 00012: saving model to weights_LSTM-12-0.36.hdf5\n",
      "Epoch 13/40\n",
      "8544/8544 [==============================] - 18s 2ms/step - loss: 0.8391 - acc: 0.7145 - val_loss: 1.8448 - val_acc: 0.3697\n",
      "\n",
      "Epoch 00013: saving model to weights_LSTM-13-0.37.hdf5\n",
      "Epoch 14/40\n",
      "8544/8544 [==============================] - 18s 2ms/step - loss: 0.8035 - acc: 0.7266 - val_loss: 1.9575 - val_acc: 0.3869\n",
      "\n",
      "Epoch 00014: saving model to weights_LSTM-14-0.39.hdf5\n",
      "Epoch 15/40\n",
      "8544/8544 [==============================] - 18s 2ms/step - loss: 0.7581 - acc: 0.7451 - val_loss: 1.9702 - val_acc: 0.3733\n",
      "\n",
      "Epoch 00015: saving model to weights_LSTM-15-0.37.hdf5\n",
      "Epoch 16/40\n",
      "8544/8544 [==============================] - 18s 2ms/step - loss: 0.7139 - acc: 0.7710 - val_loss: 2.0261 - val_acc: 0.3588\n",
      "\n",
      "Epoch 00016: saving model to weights_LSTM-16-0.36.hdf5\n",
      "Epoch 17/40\n",
      "8544/8544 [==============================] - 18s 2ms/step - loss: 0.6873 - acc: 0.7781 - val_loss: 2.0533 - val_acc: 0.3615\n",
      "\n",
      "Epoch 00017: saving model to weights_LSTM-17-0.36.hdf5\n",
      "Epoch 18/40\n",
      "8544/8544 [==============================] - 18s 2ms/step - loss: 0.6543 - acc: 0.7933 - val_loss: 2.1581 - val_acc: 0.3588\n",
      "\n",
      "Epoch 00018: saving model to weights_LSTM-18-0.36.hdf5\n",
      "Epoch 19/40\n",
      "8544/8544 [==============================] - 18s 2ms/step - loss: 0.6200 - acc: 0.8096 - val_loss: 2.1838 - val_acc: 0.3733\n",
      "\n",
      "Epoch 00019: saving model to weights_LSTM-19-0.37.hdf5\n",
      "Epoch 20/40\n",
      "8544/8544 [==============================] - 18s 2ms/step - loss: 0.5931 - acc: 0.8171 - val_loss: 2.3706 - val_acc: 0.3306\n",
      "\n",
      "Epoch 00020: saving model to weights_LSTM-20-0.33.hdf5\n",
      "Epoch 21/40\n",
      "8544/8544 [==============================] - 18s 2ms/step - loss: 0.5682 - acc: 0.8241 - val_loss: 2.5804 - val_acc: 0.3633\n",
      "\n",
      "Epoch 00021: saving model to weights_LSTM-21-0.36.hdf5\n",
      "Epoch 22/40\n",
      "8544/8544 [==============================] - 18s 2ms/step - loss: 0.5488 - acc: 0.8357 - val_loss: 2.5512 - val_acc: 0.3506\n",
      "\n",
      "Epoch 00022: saving model to weights_LSTM-22-0.35.hdf5\n",
      "Epoch 23/40\n",
      "8544/8544 [==============================] - 18s 2ms/step - loss: 0.5364 - acc: 0.8370 - val_loss: 2.5214 - val_acc: 0.3488\n",
      "\n",
      "Epoch 00023: saving model to weights_LSTM-23-0.35.hdf5\n",
      "Epoch 24/40\n",
      "8544/8544 [==============================] - 18s 2ms/step - loss: 0.5104 - acc: 0.8495 - val_loss: 2.6774 - val_acc: 0.3488\n",
      "\n",
      "Epoch 00024: saving model to weights_LSTM-24-0.35.hdf5\n",
      "Epoch 25/40\n",
      "8544/8544 [==============================] - 18s 2ms/step - loss: 0.4856 - acc: 0.8563 - val_loss: 2.7990 - val_acc: 0.3406\n",
      "\n",
      "Epoch 00025: saving model to weights_LSTM-25-0.34.hdf5\n",
      "Epoch 26/40\n",
      "8544/8544 [==============================] - 18s 2ms/step - loss: 0.4897 - acc: 0.8576 - val_loss: 2.8407 - val_acc: 0.3506\n",
      "\n",
      "Epoch 00026: saving model to weights_LSTM-26-0.35.hdf5\n",
      "Epoch 27/40\n",
      "8544/8544 [==============================] - 18s 2ms/step - loss: 0.4605 - acc: 0.8700 - val_loss: 2.8603 - val_acc: 0.3442\n",
      "\n",
      "Epoch 00027: saving model to weights_LSTM-27-0.34.hdf5\n",
      "Epoch 28/40\n",
      "8544/8544 [==============================] - 18s 2ms/step - loss: 0.4466 - acc: 0.8743 - val_loss: 2.9125 - val_acc: 0.3361\n",
      "\n",
      "Epoch 00028: saving model to weights_LSTM-28-0.34.hdf5\n",
      "Epoch 29/40\n",
      "8544/8544 [==============================] - 18s 2ms/step - loss: 0.4300 - acc: 0.8799 - val_loss: 3.0543 - val_acc: 0.3433\n",
      "\n",
      "Epoch 00029: saving model to weights_LSTM-29-0.34.hdf5\n",
      "Epoch 30/40\n",
      "8544/8544 [==============================] - 18s 2ms/step - loss: 0.4209 - acc: 0.8828 - val_loss: 3.1316 - val_acc: 0.3351\n",
      "\n",
      "Epoch 00030: saving model to weights_LSTM-30-0.34.hdf5\n",
      "Epoch 31/40\n",
      "8544/8544 [==============================] - 18s 2ms/step - loss: 0.3936 - acc: 0.8942 - val_loss: 3.2093 - val_acc: 0.3397\n",
      "\n",
      "Epoch 00031: saving model to weights_LSTM-31-0.34.hdf5\n",
      "Epoch 32/40\n",
      "8544/8544 [==============================] - 18s 2ms/step - loss: 0.3937 - acc: 0.8922 - val_loss: 3.3254 - val_acc: 0.3288\n",
      "\n",
      "Epoch 00032: saving model to weights_LSTM-32-0.33.hdf5\n",
      "Epoch 33/40\n",
      "8544/8544 [==============================] - 18s 2ms/step - loss: 0.3729 - acc: 0.9017 - val_loss: 3.2242 - val_acc: 0.3324\n",
      "\n",
      "Epoch 00033: saving model to weights_LSTM-33-0.33.hdf5\n",
      "Epoch 34/40\n",
      "8544/8544 [==============================] - 18s 2ms/step - loss: 0.3589 - acc: 0.9046 - val_loss: 3.2349 - val_acc: 0.3261\n",
      "\n",
      "Epoch 00034: saving model to weights_LSTM-34-0.33.hdf5\n",
      "Epoch 35/40\n",
      "8544/8544 [==============================] - 18s 2ms/step - loss: 0.3452 - acc: 0.9112 - val_loss: 3.4279 - val_acc: 0.3279\n",
      "\n",
      "Epoch 00035: saving model to weights_LSTM-35-0.33.hdf5\n",
      "Epoch 36/40\n",
      "8544/8544 [==============================] - 18s 2ms/step - loss: 0.3508 - acc: 0.9088 - val_loss: 3.3667 - val_acc: 0.3342\n",
      "\n",
      "Epoch 00036: saving model to weights_LSTM-36-0.33.hdf5\n",
      "Epoch 37/40\n",
      "8544/8544 [==============================] - 18s 2ms/step - loss: 0.3301 - acc: 0.9185 - val_loss: 3.4432 - val_acc: 0.3415\n",
      "\n",
      "Epoch 00037: saving model to weights_LSTM-37-0.34.hdf5\n",
      "Epoch 38/40\n",
      "8544/8544 [==============================] - 18s 2ms/step - loss: 0.3150 - acc: 0.9192 - val_loss: 3.4326 - val_acc: 0.3379\n",
      "\n",
      "Epoch 00038: saving model to weights_LSTM-38-0.34.hdf5\n",
      "Epoch 39/40\n",
      "8544/8544 [==============================] - 18s 2ms/step - loss: 0.3110 - acc: 0.9224 - val_loss: 3.6060 - val_acc: 0.3206\n",
      "\n",
      "Epoch 00039: saving model to weights_LSTM-39-0.32.hdf5\n",
      "Epoch 40/40\n",
      "8544/8544 [==============================] - 18s 2ms/step - loss: 0.2912 - acc: 0.9286 - val_loss: 3.6741 - val_acc: 0.3297\n",
      "\n",
      "Epoch 00040: saving model to weights_LSTM-40-0.33.hdf5\n"
     ]
    },
    {
     "data": {
      "image/png": "[encoded data removed]",
      "text/plain": [
       "<matplotlib.figure.Figure at 0x7f56a4489ba8>"
      ]
     },
     "metadata": {},
     "output_type": "display_data"
    },
    {
     "data": {
      "text/plain": [
       "<matplotlib.legend.Legend at 0x7f56a43c0d30>"
      ]
     },
     "execution_count": 43,
     "metadata": {},
     "output_type": "execute_result"
    },
    {
     "data": {
      "image/png": "[encoded data removed]",
      "text/plain": [
       "<matplotlib.figure.Figure at 0x7f56a43b1a90>"
      ]
     },
     "metadata": {},
     "output_type": "display_data"
    }
   ],
   "source": [
    "# 6 - Train your model and find the best hyperparameters for your dev set\n",
    "#     you will be evaluated on the quality of your predictions on the test set\n",
    "\n",
    "import matplotlib\n",
    "%matplotlib inline\n",
    "matplotlib.use('agg')\n",
    "\n",
    "from matplotlib import pyplot as plt\n",
    "\n",
    "# ADAPT CODE BELOW\n",
    "bs = 128\n",
    "n_epochs = 40\n",
    "\n",
    "#Checkpoint\n",
    "filepath=\"weights_LSTM-{epoch:02d}-{val_acc:.2f}.hdf5\"\n",
    "checkpoint = ModelCheckpoint(filepath, monitor='val_acc', verbose=1, save_best_only=False, mode='max')\n",
    "callbacks_list = [checkpoint]\n",
    "\n",
    "history = model.fit(x_train_pad, y_train, batch_size=bs, nb_epoch=n_epochs,callbacks = callbacks_list,\n",
    "                    validation_data=(x_dev_pad, y_dev))\n",
    "\n",
    "\"\"\"\n",
    "Accuracy plots\n",
    "\"\"\"\n",
    "\n",
    "plt.plot(history.history['acc'])\n",
    "plt.plot(history.history['val_acc'])\n",
    "plt.xlabel('Number of epochs')\n",
    "plt.ylabel('Accuracy')\n",
    "plt.title('Evolution of the accuracy')\n",
    "plt.legend(['train', 'dev'], loc='upper left')\n",
    "plt.show()\n",
    "\n",
    "\"\"\"\n",
    "Loss plots\n",
    "\"\"\"\n",
    "\n",
    "plt.plot(history.history['loss'])\n",
    "plt.plot(history.history['val_loss'])\n",
    "plt.xlabel('Number of epochs')\n",
    "plt.ylabel('Loss')\n",
    "plt.title('Evolution of the loss')\n",
    "plt.legend(['train', 'dev'], loc='upper left')"
   ]
  },
  {
   "cell_type": "code",
   "execution_count": 44,
   "metadata": {
    "collapsed": true
   },
   "outputs": [],
   "source": [
    "# 7 - Generate your predictions on the test set using model.predict(x_test)\n",
    "#     https://keras.io/models/model/\n",
    "#     Log your predictions in a file (one line = one integer: 0,1,2,3,4)\n",
    "#     Attach the output file \"logreg_lstm_y_test_sst.txt\" to your deliverable.\n",
    "\n",
    "model.load_weights(\"weights_LSTM-18-0.36.hdf5\")\n",
    "output = model.predict(x_test_pad)\n",
    "\n",
    "file = open(os.path.join(PATH_TO_DATA, \"logreg_lstm_y_test_sst.txt\"),\"w\") \n",
    "for elem in output:\n",
    "    file.write(str(elem)+'\\n')\n",
    "file.close()"
   ]
  },
  {
   "cell_type": "markdown",
   "metadata": {},
   "source": [
    "## 4.3 -- innovate !"
   ]
  },
  {
   "cell_type": "code",
   "execution_count": 72,
   "metadata": {
    "collapsed": true
   },
   "outputs": [
    {
     "name": "stdout",
     "output_type": "stream",
     "text": [
      "_________________________________________________________________\n",
      "Layer (type)                 Output Shape              Param #   \n",
      "=================================================================\n",
      "embedding_33 (Embedding)     (None, None, 300)         3000300   \n",
      "_________________________________________________________________\n",
      "conv1d_42 (Conv1D)           (None, None, 128)         192128    \n",
      "_________________________________________________________________\n",
      "leaky_re_lu_39 (LeakyReLU)   (None, None, 128)         0         \n",
      "_________________________________________________________________\n",
      "max_pooling1d_20 (MaxPooling (None, None, 128)         0         \n",
      "_________________________________________________________________\n",
      "conv1d_43 (Conv1D)           (None, None, 128)         82048     \n",
      "_________________________________________________________________\n",
      "leaky_re_lu_40 (LeakyReLU)   (None, None, 128)         0         \n",
      "_________________________________________________________________\n",
      "global_average_pooling1d_20  (None, 128)               0         \n",
      "_________________________________________________________________\n",
      "dropout_20 (Dropout)         (None, 128)               0         \n",
      "_________________________________________________________________\n",
      "dense_30 (Dense)             (None, 5)                 645       \n",
      "=================================================================\n",
      "Total params: 3,275,121\n",
      "Trainable params: 3,275,121\n",
      "Non-trainable params: 0\n",
      "_________________________________________________________________\n",
      "Train on 8544 samples, validate on 1101 samples\n",
      "Epoch 1/30\n",
      "8544/8544 [==============================] - 16s 2ms/step - loss: 3.7730 - acc: 0.2724 - val_loss: 1.5774 - val_acc: 0.2670\n",
      "\n",
      "Epoch 00001: saving model to weights_CONV-01-0.27.hdf5\n",
      "Epoch 2/30\n",
      "8544/8544 [==============================] - 11s 1ms/step - loss: 1.5737 - acc: 0.2759 - val_loss: 1.5757 - val_acc: 0.2534\n",
      "\n",
      "Epoch 00002: saving model to weights_CONV-02-0.25.hdf5\n",
      "Epoch 3/30\n",
      "8544/8544 [==============================] - 11s 1ms/step - loss: 1.5669 - acc: 0.3013 - val_loss: 1.5480 - val_acc: 0.3333\n",
      "\n",
      "Epoch 00003: saving model to weights_CONV-03-0.33.hdf5\n",
      "Epoch 4/30\n",
      "8544/8544 [==============================] - 11s 1ms/step - loss: 1.4978 - acc: 0.3851 - val_loss: 1.4950 - val_acc: 0.3824\n",
      "\n",
      "Epoch 00004: saving model to weights_CONV-04-0.38.hdf5\n",
      "Epoch 5/30\n",
      "8544/8544 [==============================] - 11s 1ms/step - loss: 1.3692 - acc: 0.4444 - val_loss: 1.4724 - val_acc: 0.3842\n",
      "\n",
      "Epoch 00005: saving model to weights_CONV-05-0.38.hdf5\n",
      "Epoch 6/30\n",
      "8544/8544 [==============================] - 11s 1ms/step - loss: 1.2768 - acc: 0.4768 - val_loss: 1.5837 - val_acc: 0.3724\n",
      "\n",
      "Epoch 00006: saving model to weights_CONV-06-0.37.hdf5\n",
      "Epoch 7/30\n",
      "8544/8544 [==============================] - 11s 1ms/step - loss: 1.2122 - acc: 0.5108 - val_loss: 1.5978 - val_acc: 0.3887\n",
      "\n",
      "Epoch 00007: saving model to weights_CONV-07-0.39.hdf5\n",
      "Epoch 8/30\n",
      "8544/8544 [==============================] - 11s 1ms/step - loss: 1.1529 - acc: 0.5408 - val_loss: 1.7273 - val_acc: 0.3551\n",
      "\n",
      "Epoch 00008: saving model to weights_CONV-08-0.36.hdf5\n",
      "Epoch 9/30\n",
      "8544/8544 [==============================] - 11s 1ms/step - loss: 1.1007 - acc: 0.5763 - val_loss: 1.8635 - val_acc: 0.3797\n",
      "\n",
      "Epoch 00009: saving model to weights_CONV-09-0.38.hdf5\n",
      "Epoch 10/30\n",
      "8544/8544 [==============================] - 11s 1ms/step - loss: 1.0602 - acc: 0.6001 - val_loss: 1.9406 - val_acc: 0.3742\n",
      "\n",
      "Epoch 00010: saving model to weights_CONV-10-0.37.hdf5\n",
      "Epoch 11/30\n",
      "8544/8544 [==============================] - 11s 1ms/step - loss: 1.0164 - acc: 0.6328 - val_loss: 2.0955 - val_acc: 0.3642\n",
      "\n",
      "Epoch 00011: saving model to weights_CONV-11-0.36.hdf5\n",
      "Epoch 12/30\n",
      "8544/8544 [==============================] - 11s 1ms/step - loss: 0.9750 - acc: 0.6593 - val_loss: 2.3116 - val_acc: 0.3606\n",
      "\n",
      "Epoch 00012: saving model to weights_CONV-12-0.36.hdf5\n",
      "Epoch 13/30\n",
      "8544/8544 [==============================] - 11s 1ms/step - loss: 0.9346 - acc: 0.6848 - val_loss: 2.4716 - val_acc: 0.3615\n",
      "\n",
      "Epoch 00013: saving model to weights_CONV-13-0.36.hdf5\n",
      "Epoch 14/30\n",
      "8544/8544 [==============================] - 11s 1ms/step - loss: 0.8900 - acc: 0.7131 - val_loss: 2.6033 - val_acc: 0.3442\n",
      "\n",
      "Epoch 00014: saving model to weights_CONV-14-0.34.hdf5\n",
      "Epoch 15/30\n",
      "8544/8544 [==============================] - 11s 1ms/step - loss: 0.8689 - acc: 0.7305 - val_loss: 2.7223 - val_acc: 0.3424\n",
      "\n",
      "Epoch 00015: saving model to weights_CONV-15-0.34.hdf5\n",
      "Epoch 16/30\n",
      "8544/8544 [==============================] - 10s 1ms/step - loss: 0.8194 - acc: 0.7604 - val_loss: 2.9098 - val_acc: 0.3442\n",
      "\n",
      "Epoch 00016: saving model to weights_CONV-16-0.34.hdf5\n",
      "Epoch 17/30\n",
      "8544/8544 [==============================] - 10s 1ms/step - loss: 0.7870 - acc: 0.7794 - val_loss: 3.0269 - val_acc: 0.3315\n",
      "\n",
      "Epoch 00017: saving model to weights_CONV-17-0.33.hdf5\n",
      "Epoch 18/30\n",
      "8544/8544 [==============================] - 10s 1ms/step - loss: 0.7643 - acc: 0.7906 - val_loss: 3.1568 - val_acc: 0.3406\n",
      "\n",
      "Epoch 00018: saving model to weights_CONV-18-0.34.hdf5\n",
      "Epoch 19/30\n",
      "8544/8544 [==============================] - 10s 1ms/step - loss: 0.7341 - acc: 0.8043 - val_loss: 3.2780 - val_acc: 0.3370\n",
      "\n",
      "Epoch 00019: saving model to weights_CONV-19-0.34.hdf5\n",
      "Epoch 20/30\n",
      "8544/8544 [==============================] - 10s 1ms/step - loss: 0.6976 - acc: 0.8251 - val_loss: 3.3913 - val_acc: 0.3488\n",
      "\n",
      "Epoch 00020: saving model to weights_CONV-20-0.35.hdf5\n",
      "Epoch 21/30\n",
      "8544/8544 [==============================] - 10s 1ms/step - loss: 0.6731 - acc: 0.8359 - val_loss: 3.5150 - val_acc: 0.3306\n",
      "\n",
      "Epoch 00021: saving model to weights_CONV-21-0.33.hdf5\n",
      "Epoch 22/30\n",
      "8544/8544 [==============================] - 10s 1ms/step - loss: 0.6568 - acc: 0.8483 - val_loss: 3.6180 - val_acc: 0.3297\n",
      "\n",
      "Epoch 00022: saving model to weights_CONV-22-0.33.hdf5\n",
      "Epoch 23/30\n",
      "8544/8544 [==============================] - 10s 1ms/step - loss: 0.6333 - acc: 0.8524 - val_loss: 3.6916 - val_acc: 0.3315\n",
      "\n",
      "Epoch 00023: saving model to weights_CONV-23-0.33.hdf5\n",
      "Epoch 24/30\n",
      "8544/8544 [==============================] - 10s 1ms/step - loss: 0.6120 - acc: 0.8621 - val_loss: 3.7703 - val_acc: 0.3406\n",
      "\n",
      "Epoch 00024: saving model to weights_CONV-24-0.34.hdf5\n",
      "Epoch 25/30\n",
      "8544/8544 [==============================] - 10s 1ms/step - loss: 0.6098 - acc: 0.8638 - val_loss: 3.8214 - val_acc: 0.3288\n",
      "\n",
      "Epoch 00025: saving model to weights_CONV-25-0.33.hdf5\n",
      "Epoch 26/30\n",
      "8544/8544 [==============================] - 10s 1ms/step - loss: 0.5778 - acc: 0.8732 - val_loss: 3.8971 - val_acc: 0.3415\n",
      "\n",
      "Epoch 00026: saving model to weights_CONV-26-0.34.hdf5\n",
      "Epoch 27/30\n",
      "8544/8544 [==============================] - 10s 1ms/step - loss: 0.5588 - acc: 0.8787 - val_loss: 3.9876 - val_acc: 0.3351\n",
      "\n",
      "Epoch 00027: saving model to weights_CONV-27-0.34.hdf5\n",
      "Epoch 28/30\n",
      "8544/8544 [==============================] - 10s 1ms/step - loss: 0.5563 - acc: 0.8832 - val_loss: 4.0389 - val_acc: 0.3306\n",
      "\n",
      "Epoch 00028: saving model to weights_CONV-28-0.33.hdf5\n",
      "Epoch 29/30\n",
      "8544/8544 [==============================] - 10s 1ms/step - loss: 0.5360 - acc: 0.8871 - val_loss: 4.1304 - val_acc: 0.3252\n",
      "\n",
      "Epoch 00029: saving model to weights_CONV-29-0.33.hdf5\n",
      "Epoch 30/30\n",
      "8544/8544 [==============================] - 10s 1ms/step - loss: 0.5260 - acc: 0.8917 - val_loss: 4.1926 - val_acc: 0.3370\n",
      "\n",
      "Epoch 00030: saving model to weights_CONV-30-0.34.hdf5\n"
     ]
    },
    {
     "data": {
      "image/png": "[encoded data removed]",
      "text/plain": [
       "<matplotlib.figure.Figure at 0x7f564b594588>"
      ]
     },
     "metadata": {},
     "output_type": "display_data"
    },
    {
     "data": {
      "text/plain": [
       "<matplotlib.legend.Legend at 0x7f564aaa5080>"
      ]
     },
     "execution_count": 72,
     "metadata": {},
     "output_type": "execute_result"
    },
    {
     "data": {
      "image/png": "[encoded data removed]",
      "text/plain": [
       "<matplotlib.figure.Figure at 0x7f564ab49f60>"
      ]
     },
     "metadata": {},
     "output_type": "display_data"
    }
   ],
   "source": [
    "# 8 - Open question: find a model that is better on your dev set\n",
    "#     (e.g: use a 1D ConvNet, use a better classifier, pretrain your lookup tables ..)\n",
    "#     you will get point if the results on the test set are better: be careful of not overfitting your dev set too much..\n",
    "#     Attach the output file \"XXX_XXX_y_test_sst.txt\" to your deliverable.\n",
    "\n",
    "from keras.preprocessing.text import Tokenizer\n",
    "from keras.preprocessing.sequence import pad_sequences\n",
    "\n",
    "from keras.models import Sequential\n",
    "from keras.layers import Embedding,Dense,Activation,Conv1D,MaxPooling1D,GlobalAveragePooling1D,Dropout,LeakyReLU\n",
    "from keras.optimizers import Adam\n",
    "\n",
    "MAX_NB_WORDS = 10000\n",
    "MAX_SENT     = 30\n",
    "\n",
    "tokenizer = Tokenizer(num_words=MAX_NB_WORDS)\n",
    "\n",
    "tokenizer.fit_on_texts(x_train+x_dev+x_test)\n",
    "x_tok = tokenizer.texts_to_sequences(x_train+x_dev+x_test)\n",
    "\n",
    "word_index = tokenizer.word_index\n",
    "\n",
    "x_train_tok = x_tok[:len(x_train)]\n",
    "x_dev_tok  = x_tok[len(x_train):len(x_train)+len(x_dev)]\n",
    "x_test_tok  = x_tok[len(x_train)+len(x_dev):]\n",
    "\n",
    "x_train_pad2 = pad_sequences(x_train_tok, maxlen=MAX_SENT)\n",
    "x_dev_pad2   = pad_sequences(x_dev_tok, maxlen=MAX_SENT)\n",
    "x_test_pad2  = pad_sequences(x_test_tok,maxlen=MAX_SENT)\n",
    "\n",
    "num_words   = min(MAX_NB_WORDS,len(word_index))+1\n",
    "embedding_matrix = np.zeros((num_words,embed_dim))\n",
    "\n",
    "for word,i in word_index.items():\n",
    "    if i > num_words:\n",
    "        continue\n",
    "    emb_vector = word2vec_en.get(word) #if word isn't in word2vec_en, we return a NoneType\n",
    "    if emb_vector is not None:\n",
    "        embedding_matrix[i] = emb_vector\n",
    "\n",
    "filters     = 128\n",
    "kernel_size = 5\n",
    "pool_size   = 3\n",
    "\n",
    "model_2 = Sequential()\n",
    "model_2.add(Embedding(num_words,embed_dim,weights = [embedding_matrix],trainable = True))\n",
    "# model_2.add(Embedding(num_words,embed_dim))\n",
    "\n",
    "model_2.add(Conv1D(filters=filters,kernel_size=kernel_size,padding='valid',kernel_regularizer=regularizers.l2(0.01)))\n",
    "model_2.add(LeakyReLU(alpha=0.3))\n",
    "model_2.add(MaxPooling1D(pool_size=pool_size))\n",
    "\n",
    "model_2.add(Conv1D(filters=filters,kernel_size=kernel_size,padding='valid',kernel_regularizer=regularizers.l2(0.1)))\n",
    "model_2.add(LeakyReLU(alpha=0.3))\n",
    "model_2.add(GlobalAveragePooling1D())\n",
    "\n",
    "model_2.add(Dropout(0.5))\n",
    "model_2.add(Dense(n_classes,activation = 'softmax'))\n",
    "\n",
    "loss_classif    = 'categorical_crossentropy'\n",
    "optimizer       = Adam(lr=0.001)\n",
    "metrics_classif = ['accuracy']\n",
    "model_2.compile(loss=loss_classif,optimizer=optimizer,metrics=metrics_classif)\n",
    "model_2.summary()\n",
    "\n",
    "# # ADAPT CODE BELOW\n",
    "bs = 64\n",
    "n_epochs = 30\n",
    "\n",
    "#Checkpoint\n",
    "filepath=\"weights_CONV-{epoch:02d}-{val_acc:.2f}.hdf5\"\n",
    "checkpoint = ModelCheckpoint(filepath, monitor='val_acc', verbose=1, save_best_only=False, mode='max')\n",
    "# earlystopping = EarlyStopping(monitor='val_loss', min_delta=0, patience=10,restore_best_weights=True)\n",
    "callbacks_list = [checkpoint]\n",
    "\n",
    "history_2 = model_2.fit(x_train_pad2, y_train, batch_size=bs, epochs=n_epochs, callbacks=callbacks_list,\n",
    "                        validation_data=(x_dev_pad2, y_dev))\n",
    "\n",
    "\"\"\"\n",
    "Accuracy plots\n",
    "\"\"\"\n",
    "\n",
    "plt.plot(history_2.history['acc'])\n",
    "plt.plot(history_2.history['val_acc'])\n",
    "plt.xlabel('Number of epochs')\n",
    "plt.ylabel('Accuracy')\n",
    "plt.title('Evolution of the accuracy')\n",
    "plt.legend(['train', 'dev'], loc='upper left')\n",
    "plt.show()\n",
    "\n",
    "\"\"\"\n",
    "Loss plots\n",
    "\"\"\"\n",
    "\n",
    "plt.plot(history_2.history['loss'])\n",
    "plt.plot(history_2.history['val_loss'])\n",
    "plt.xlabel('Number of epochs')\n",
    "plt.ylabel('Loss')\n",
    "plt.title('Evolution of the loss')\n",
    "plt.legend(['train', 'dev'], loc='upper left')\n",
    "\n",
    "\n",
    "###Output####\n",
    "model_2.load_weights(\"weights_CONV-20-0.35.hdf5\")\n",
    "output2 = model_2.predict(x_test_pad2)\n",
    "\n",
    "file = open(os.path.join(PATH_TO_DATA, \"Conv_y_test_sst.txt\"),\"w\") \n",
    "for elem in output2:\n",
    "    file.write(str(elem)+'\\n')\n",
    "file.close()"
   ]
  }
 ],
 "metadata": {
  "kernelspec": {
   "display_name": "Python 3",
   "language": "python",
   "name": "python3"
  },
  "language_info": {
   "codemirror_mode": {
    "name": "ipython",
    "version": 3
   },
   "file_extension": ".py",
   "mimetype": "text/x-python",
   "name": "python",
   "nbconvert_exporter": "python",
   "pygments_lexer": "ipython3",
   "version": "3.5.4"
  }
 },
 "nbformat": 4,
 "nbformat_minor": 1
}
