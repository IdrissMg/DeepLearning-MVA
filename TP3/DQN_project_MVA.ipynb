{
 "cells": [
  {
   "cell_type": "markdown",
   "metadata": {},
   "source": [
    "**You may need to install [OpenCV](https://pypi.python.org/pypi/opencv-python) and [scikit-video](http://www.scikit-video.org/stable/).**"
   ]
  },
  {
   "cell_type": "code",
   "execution_count": 1,
   "metadata": {},
   "outputs": [
    {
     "name": "stderr",
     "output_type": "stream",
     "text": [
      "Using TensorFlow backend.\n"
     ]
    }
   ],
   "source": [
    "import keras\n",
    "import numpy as np\n",
    "import io\n",
    "import base64\n",
    "from IPython.display import HTML,display\n",
    "import skvideo.io\n",
    "import cv2\n",
    "import json\n",
    "\n",
    "from keras.models import Sequential,model_from_json\n",
    "from keras.layers.core import Dense\n",
    "from keras.optimizers import sgd\n",
    "from keras.layers import Conv2D, MaxPooling2D, Activation, AveragePooling2D,Reshape,BatchNormalization"
   ]
  },
  {
   "cell_type": "markdown",
   "metadata": {},
   "source": [
    "# MiniProject #3: Deep Reinforcement Learning"
   ]
  },
  {
   "cell_type": "markdown",
   "metadata": {},
   "source": [
    "__Notations__: $E_p$ is the expectation under probability $p$. Please justify each of your answer and widely comment your code."
   ]
  },
  {
   "cell_type": "markdown",
   "metadata": {},
   "source": [
    "# Context"
   ]
  },
  {
   "cell_type": "markdown",
   "metadata": {},
   "source": [
    "In a reinforcement learning algorithm, we modelize each step $t$ as an action $a_t$ obtained from a state $s_t$, i.e. $\\{(a_{t},s_{t})_{t\\leq T}\\}$ having the Markov property. We consider a discount factor $\\gamma \\in [0,1]$ that ensures convergence. The goal is to find among all the policies $\\pi$, one that maximizes the expected reward:\n",
    "\n",
    "\\begin{equation*}\n",
    "R(\\pi)=\\sum_{t\\leq T}E_{p^{\\pi}}[\\gamma^t r(s_{t},a_{t})] \\> ,\n",
    "\\end{equation*}\n",
    "\n",
    "where: \n",
    "\\begin{equation*}p^{\\pi}(a_{0},a_{1},s_{1},...,a_{T},s_{T})=p(a_{0})\\prod_{t=1}^{T}\\pi(a_{t}|s_{t})p(s_{t+1}|s_{t},a_{t}) \\> .\n",
    "\\end{equation*}\n",
    "\n",
    "We note the $Q$-function:\n",
    "\n",
    "\\begin{equation*}Q^\\pi(s,a)=E_{p^{\\pi}}[\\sum_{t\\leq T}\\gamma^{t}r(s_{t},a_{t})|s_{0}=s,a_{0}=a] \\> .\n",
    "\\end{equation*}\n",
    "\n",
    "Thus, the optimal Q function is:\n",
    "\\begin{equation*}\n",
    "Q^*(s,a)=\\max_{\\pi}Q^\\pi(s,a) \\> .\n",
    "\\end{equation*}\n",
    "\n",
    "In this project, we will apply the deep reinforcement learning techniques to a simple game: an agent will have to learn from scratch a policy that will permit it maximizing a reward."
   ]
  },
  {
   "cell_type": "markdown",
   "metadata": {},
   "source": [
    "## The environment, the agent and the game"
   ]
  },
  {
   "cell_type": "markdown",
   "metadata": {},
   "source": [
    "### The environment"
   ]
  },
  {
   "cell_type": "markdown",
   "metadata": {},
   "source": [
    "```Environment``` is an abstract class that represents the states, rewards, and actions to obtain the new state."
   ]
  },
  {
   "cell_type": "code",
   "execution_count": 2,
   "metadata": {},
   "outputs": [],
   "source": [
    "class Environment(object):\n",
    "    def __init__(self):\n",
    "        pass\n",
    "\n",
    "    def act(self, act):\n",
    "        \"\"\"\n",
    "        One can act on the environment and obtain its reaction:\n",
    "        - the new state\n",
    "        - the reward of the new state\n",
    "        - should we continue the game?\n",
    "\n",
    "        :return: state, reward, game_over\n",
    "        \"\"\"\n",
    "        pass\n",
    "\n",
    "\n",
    "    def reset(self):\n",
    "        \"\"\"\n",
    "        Reinitialize the environment to a random state and returns\n",
    "        the original state\n",
    "\n",
    "        :return: state\n",
    "        \"\"\"\n",
    "        pass\n",
    "    \n",
    "    def draw(self):\n",
    "        \"\"\"\n",
    "        Visualize in the console or graphically the current state\n",
    "        \"\"\"\n",
    "        pass"
   ]
  },
  {
   "cell_type": "markdown",
   "metadata": {},
   "source": [
    "The method ```act``` allows to act on the environment at a given state $s_t$ (stored internally), via action $a_t$. The method will return the new state $s_{t+1}$, the reward $r(s_{t},a_{t})$ and determines if $t\\leq T$ (*game_over*).\n",
    "\n",
    "The method ```reset``` simply reinitializes the environment to a random state $s_0$.\n",
    "\n",
    "The method ```draw``` displays the current state $s_t$ (this is useful to check the behavior of the Agent).\n",
    "\n",
    "We modelize $s_t$ as a tensor, while $a_t$ is an integer."
   ]
  },
  {
   "cell_type": "markdown",
   "metadata": {},
   "source": [
    "### The Agent"
   ]
  },
  {
   "cell_type": "markdown",
   "metadata": {},
   "source": [
    "The goal of the ```Agent``` is to interact with the ```Environment``` by proposing actions $a_t$ obtained from a given state $s_t$ to attempt to maximize its __reward__ $r(s_t,a_t)$. We propose the following abstract class:"
   ]
  },
  {
   "cell_type": "code",
   "execution_count": 3,
   "metadata": {},
   "outputs": [],
   "source": [
    "class Agent(object):\n",
    "    def __init__(self, epsilon=0.1, n_action=4):\n",
    "        self.epsilon = epsilon\n",
    "        self.n_action = n_action\n",
    "    \n",
    "    def set_epsilon(self,e):\n",
    "        self.epsilon = e\n",
    "\n",
    "    def act(self,s,train=True):\n",
    "        \"\"\" This function should return the next action to do:\n",
    "        an integer between 0 and 4 (not included) with a random exploration of epsilon\"\"\"\n",
    "        if train:\n",
    "            if np.random.rand() <= self.epsilon:\n",
    "                a = np.random.randint(0, self.n_action, size=1)[0]\n",
    "            else:\n",
    "                a = self.learned_act(s)\n",
    "        else: # in some cases, this can improve the performance.. remove it if poor performances\n",
    "            a = self.learned_act(s)\n",
    "\n",
    "        return a\n",
    "\n",
    "    def learned_act(self,s):\n",
    "        \"\"\" Act via the policy of the agent, from a given state s\n",
    "        it proposes an action a\"\"\"\n",
    "        pass\n",
    "\n",
    "    def reinforce(self, s, n_s, a, r, game_over_):\n",
    "        \"\"\" This function is the core of the learning algorithm. \n",
    "        It takes as an input the current state s_, the next state n_s_\n",
    "        the action a_ used to move from s_ to n_s_ and the reward r_.\n",
    "        \n",
    "        Its goal is to learn a policy.\n",
    "        \"\"\"\n",
    "        pass\n",
    "\n",
    "    def save(self):\n",
    "        \"\"\" This function returns basic stats if applicable: the\n",
    "        loss and/or the model\"\"\"\n",
    "        pass\n",
    "\n",
    "    def load(self):\n",
    "        \"\"\" This function allows to restore a model\"\"\"\n",
    "        pass"
   ]
  },
  {
   "cell_type": "markdown",
   "metadata": {},
   "source": [
    "***\n",
    "__Question 1__:\n",
    "Explain the function act. Why is ```epsilon``` essential?"
   ]
  },
  {
   "cell_type": "markdown",
   "metadata": {},
   "source": [
    "The function act executes the action learned on the environment. It enables to do exploration/exploitation using an $\\epsilon$-greedy policy : we act randomly with a probability $\\epsilon$. "
   ]
  },
  {
   "cell_type": "markdown",
   "metadata": {},
   "source": [
    "***\n",
    "### The Game"
   ]
  },
  {
   "cell_type": "markdown",
   "metadata": {},
   "source": [
    "The ```Agent``` and the ```Environment``` work in an interlaced way as in the following (take some time to understand this code as it is the core of the project)\n",
    "\n",
    "```python\n",
    "\n",
    "epoch = 300\n",
    "env = Environment()\n",
    "agent = Agent()\n",
    "\n",
    "\n",
    "# Number of won games\n",
    "score = 0\n",
    "loss = 0\n",
    "\n",
    "\n",
    "for e in range(epoch):\n",
    "    # At each epoch, we restart to a fresh game and get the initial state\n",
    "    state = env.reset()\n",
    "    # This assumes that the games will end\n",
    "    game_over = False\n",
    "\n",
    "    win = 0\n",
    "    lose = 0\n",
    "    \n",
    "    while not game_over:\n",
    "        # The agent performs an action\n",
    "        action = agent.act(state)\n",
    "\n",
    "        # Apply an action to the environment, get the next state, the reward\n",
    "        # and if the games end\n",
    "        prev_state = state\n",
    "        state, reward, game_over = env.act(action)\n",
    "\n",
    "        # Update the counters\n",
    "        if reward > 0:\n",
    "            win = win + reward\n",
    "        if reward < 0:\n",
    "            lose = lose -reward\n",
    "\n",
    "        # Apply the reinforcement strategy\n",
    "        loss = agent.reinforce(prev_state, state,  action, reward, game_over)\n",
    "\n",
    "    # Save as a mp4\n",
    "    if e % 10 == 0:\n",
    "        env.draw(e)\n",
    "\n",
    "    # Update stats\n",
    "    score += win-lose\n",
    "\n",
    "    print(\"Epoch {:03d}/{:03d} | Loss {:.4f} | Win/lose count {}/{} ({})\"\n",
    "          .format(e, epoch, loss, win, lose, win-lose))\n",
    "    agent.save()\n",
    "```"
   ]
  },
  {
   "cell_type": "markdown",
   "metadata": {},
   "source": [
    "# The game, *eat cheese*"
   ]
  },
  {
   "cell_type": "markdown",
   "metadata": {},
   "source": [
    "A rat runs on an island and tries to eat as much as possible. The island is subdivided into $N\\times N$ cells, in which there are cheese (+0.5) and poisonous cells (-1). The rat has a visibility of 2 cells (thus it can see $5^2$ cells). The rat is given a time $T$ to accumulate as much food as possible. It can perform 4 actions: going up, down, left, right. \n",
    "\n",
    "The goal is to code an agent to solve this task that will learn by trial and error. We propose the following environment:"
   ]
  },
  {
   "cell_type": "code",
   "execution_count": 4,
   "metadata": {},
   "outputs": [],
   "source": [
    "class Environment(object):\n",
    "    def __init__(self, grid_size=10, max_time=500, temperature=0.1):\n",
    "        grid_size = grid_size + 4\n",
    "        self.grid_size = grid_size\n",
    "        self.max_time = max_time\n",
    "        self.temperature = temperature\n",
    "\n",
    "        #board on which one plays\n",
    "        self.board = np.zeros((grid_size,grid_size))\n",
    "        self.position = np.zeros((grid_size,grid_size))\n",
    "\n",
    "        # coordinate of the rat\n",
    "        self.x = 0\n",
    "        self.y = 1\n",
    "\n",
    "        # self time\n",
    "        self.t = 0\n",
    "\n",
    "        self.scale=16\n",
    "\n",
    "        self.to_draw = np.zeros((max_time+2, grid_size*self.scale, grid_size*self.scale, 3))\n",
    "\n",
    "\n",
    "    def draw(self,e):\n",
    "        skvideo.io.vwrite(str(e) + '.mp4', self.to_draw)\n",
    "\n",
    "    def get_frame(self,t):\n",
    "        b = np.zeros((self.grid_size,self.grid_size,3))+128\n",
    "        b[self.board>0,0] = 256\n",
    "        b[self.board < 0, 2] = 256\n",
    "        b[self.x,self.y,:]=256\n",
    "        b[-2:,:,:]=0\n",
    "        b[:,-2:,:]=0\n",
    "        b[:2,:,:]=0\n",
    "        b[:,:2,:]=0\n",
    "        \n",
    "        b =  cv2.resize(b, None, fx=self.scale, fy=self.scale, interpolation=cv2.INTER_NEAREST)\n",
    "\n",
    "        self.to_draw[t,:,:,:]=b\n",
    "\n",
    "\n",
    "    def act(self, action,train=True):\n",
    "        \"\"\"This function returns the new state, reward and decides if the\n",
    "        game ends.\"\"\"\n",
    "\n",
    "        self.get_frame(int(self.t))\n",
    "\n",
    "        self.position = np.zeros((self.grid_size, self.grid_size))\n",
    "\n",
    "        self.position[0:2,:]= -1\n",
    "        self.position[:,0:2] = -1\n",
    "        self.position[-2:, :] = -1\n",
    "#         self.position[-2:, :] = -1\n",
    "        self.position[:, -2:] = -1\n",
    "\n",
    "        self.position[self.x, self.y] = 1\n",
    "        if action == 0:\n",
    "            if self.x == self.grid_size-3:\n",
    "                self.x = self.x-1\n",
    "            else:\n",
    "                self.x = self.x + 1\n",
    "        elif action == 1:\n",
    "            if self.x == 2:\n",
    "                self.x = self.x+1\n",
    "            else:\n",
    "                self.x = self.x-1\n",
    "        elif action == 2:\n",
    "            if self.y == self.grid_size - 3:\n",
    "                self.y = self.y - 1\n",
    "            else:\n",
    "                self.y = self.y + 1\n",
    "        elif action == 3:\n",
    "            if self.y == 2:\n",
    "                self.y = self.y + 1\n",
    "            else:\n",
    "                self.y = self.y - 1\n",
    "        else:\n",
    "            RuntimeError('Error: action not recognized')\n",
    "\n",
    "        self.t = self.t + 1\n",
    "        \n",
    "        reward = self.board[self.x, self.y]\n",
    "\n",
    "        self.board[self.x, self.y] = 0\n",
    "        game_over = self.t > self.max_time\n",
    "        state = np.concatenate((self.board.reshape(self.grid_size, self.grid_size,1),\n",
    "                        self.position.reshape(self.grid_size, self.grid_size,1)),axis=2)\n",
    "        state = state[self.x-2:self.x+3,self.y-2:self.y+3,:]\n",
    "\n",
    "        return state, reward, game_over\n",
    "\n",
    "    def reset(self):\n",
    "        \"\"\"This function resets the game and returns the initial state\"\"\"\n",
    "\n",
    "        self.x = np.random.randint(3, self.grid_size-3, size=1)[0]\n",
    "        self.y = np.random.randint(3, self.grid_size-3, size=1)[0]\n",
    "\n",
    "\n",
    "        bonus = 0.5*np.random.binomial(1,self.temperature,size=self.grid_size**2)\n",
    "        bonus = bonus.reshape(self.grid_size,self.grid_size)\n",
    "\n",
    "        malus = -1.0*np.random.binomial(1,self.temperature,size=self.grid_size**2)\n",
    "        malus = malus.reshape(self.grid_size, self.grid_size)\n",
    "\n",
    "        self.to_draw = np.zeros((self.max_time+2, self.grid_size*self.scale, self.grid_size*self.scale, 3))\n",
    "\n",
    "        malus[bonus>0]=0\n",
    "\n",
    "        self.board = bonus + malus\n",
    "\n",
    "        self.position = np.zeros((self.grid_size, self.grid_size))\n",
    "        self.position[0:2,:]= -1\n",
    "        self.position[:,0:2] = -1\n",
    "        self.position[-2:, :] = -1\n",
    "        self.position[-2:, :] = -1\n",
    "        self.board[self.x,self.y] = 0\n",
    "        self.t = 0\n",
    "\n",
    "        state = np.concatenate((\n",
    "                               self.board.reshape(self.grid_size, self.grid_size,1),\n",
    "                        self.position.reshape(self.grid_size, self.grid_size,1)),axis=2)\n",
    "\n",
    "        state = state[self.x - 2:self.x + 3, self.y - 2:self.y + 3, :]\n",
    "        return state"
   ]
  },
  {
   "cell_type": "markdown",
   "metadata": {},
   "source": [
    "The following elements are important because they correspond to the hyper parameters for this project:"
   ]
  },
  {
   "cell_type": "code",
   "execution_count": 5,
   "metadata": {},
   "outputs": [],
   "source": [
    "# parameters\n",
    "size = 13\n",
    "T = 200\n",
    "temperature = 0.3 # Probability of success when creating bonus and malus\n",
    "epochs_train = 50 # set small when debugging\n",
    "epochs_test = 30 # set small when debugging\n",
    "\n",
    "# display videos\n",
    "def display_videos(name):\n",
    "    video = io.open(name, 'r+b').read()\n",
    "    encoded = base64.b64encode(video)\n",
    "    return '''<video width=\"320\" height=\"240\" controls>\n",
    "                <source src=\"data:video/mp4;base64,{0}\" type=\"video/mp4\" />\n",
    "             </video>'''.format(encoded.decode('ascii'))"
   ]
  },
  {
   "cell_type": "markdown",
   "metadata": {},
   "source": [
    "__Question 2__ Explain the use of the arrays ```position``` and ```board```."
   ]
  },
  {
   "cell_type": "markdown",
   "metadata": {},
   "source": [
    "The array $\\textit position$ is the map on which we are playing, used to define the borders.\n",
    "\n",
    "The array $\\textit board$ contains the reward of each cell on the map."
   ]
  },
  {
   "cell_type": "markdown",
   "metadata": {},
   "source": [
    "## Random Agent"
   ]
  },
  {
   "cell_type": "markdown",
   "metadata": {},
   "source": [
    "***\n",
    "__Question 3__ Implement a random Agent (only ```learned_act``` needs to be implemented):"
   ]
  },
  {
   "cell_type": "code",
   "execution_count": 6,
   "metadata": {},
   "outputs": [],
   "source": [
    "class RandomAgent(Agent):\n",
    "    def __init__(self):\n",
    "        super(RandomAgent, self).__init__()\n",
    "        pass\n",
    "\n",
    "    def learned_act(self, s):\n",
    "        a = np.random.randint(low = 0,high = 4,size = 1)[0]\n",
    "        return a"
   ]
  },
  {
   "cell_type": "markdown",
   "metadata": {},
   "source": [
    "***\n",
    "***\n",
    "__Question 4__ Visualize the game moves. You need to fill in the following function for the evaluation:"
   ]
  },
  {
   "cell_type": "code",
   "execution_count": 7,
   "metadata": {},
   "outputs": [],
   "source": [
    "def test(agent,env,epochs,prefix=''):\n",
    "    # Number of won games\n",
    "    score = 0\n",
    "        \n",
    "    for e in range(epochs):\n",
    "        \n",
    "        state = env.reset()\n",
    "        \n",
    "        game_over = False\n",
    "        \n",
    "        win = 0\n",
    "        lose = 0\n",
    "        \n",
    "        while not game_over:\n",
    "            action = agent.act(state)\n",
    "            \n",
    "            prev_state = state\n",
    "            state, reward, game_over = env.act(action)\n",
    "            \n",
    "            if reward >0:\n",
    "                win += reward\n",
    "            if reward <0:\n",
    "                lose -= reward\n",
    "        \n",
    "        # Save as a mp4\n",
    "        if e%10:\n",
    "            env.draw(prefix+str(e))\n",
    "\n",
    "        # Update stats\n",
    "        score = score + win-lose\n",
    "\n",
    "        print(\"Win/lose count {}/{}. Average score ({})\"\n",
    "              .format(win, lose, score/(1+e)))\n",
    "    print('Final score: '+str(score/epochs))"
   ]
  },
  {
   "cell_type": "code",
   "execution_count": 8,
   "metadata": {},
   "outputs": [
    {
     "name": "stdout",
     "output_type": "stream",
     "text": [
      "Win/lose count 7.5/6.0. Average score (1.5)\n",
      "Win/lose count 7.5/17.0. Average score (-4.0)\n",
      "Win/lose count 5.5/23.0. Average score (-8.5)\n",
      "Win/lose count 12.0/8.0. Average score (-5.375)\n",
      "Win/lose count 6.0/7.0. Average score (-4.5)\n",
      "Win/lose count 13.0/14.0. Average score (-3.9166666666666665)\n",
      "Win/lose count 8.0/11.0. Average score (-3.7857142857142856)\n",
      "Win/lose count 12.0/15.0. Average score (-3.6875)\n",
      "Win/lose count 9.5/7.0. Average score (-3.0)\n",
      "Win/lose count 9.0/8.0. Average score (-2.6)\n",
      "Win/lose count 14.5/14.0. Average score (-2.3181818181818183)\n",
      "Win/lose count 6.5/16.0. Average score (-2.9166666666666665)\n",
      "Win/lose count 16.0/9.0. Average score (-2.1538461538461537)\n",
      "Win/lose count 11.0/14.0. Average score (-2.2142857142857144)\n",
      "Win/lose count 10.5/17.0. Average score (-2.5)\n",
      "Win/lose count 12.0/12.0. Average score (-2.34375)\n",
      "Win/lose count 9.5/15.0. Average score (-2.5294117647058822)\n",
      "Win/lose count 10.0/18.0. Average score (-2.8333333333333335)\n",
      "Win/lose count 10.0/14.0. Average score (-2.8947368421052633)\n",
      "Win/lose count 5.5/16.0. Average score (-3.275)\n",
      "Win/lose count 8.5/18.0. Average score (-3.5714285714285716)\n",
      "Win/lose count 12.0/13.0. Average score (-3.4545454545454546)\n",
      "Win/lose count 10.0/12.0. Average score (-3.391304347826087)\n",
      "Win/lose count 11.5/14.0. Average score (-3.3541666666666665)\n",
      "Win/lose count 15.0/9.0. Average score (-2.98)\n",
      "Win/lose count 11.0/12.0. Average score (-2.9038461538461537)\n",
      "Win/lose count 6.0/13.0. Average score (-3.0555555555555554)\n",
      "Win/lose count 10.5/11.0. Average score (-2.9642857142857144)\n",
      "Win/lose count 9.5/14.0. Average score (-3.0172413793103448)\n",
      "Win/lose count 8.5/26.0. Average score (-3.5)\n",
      "Final score: -3.5\n"
     ]
    },
    {
     "data": {
      "text/html": [
       "<video width=\"320\" height=\"240\" controls>\n",
       "                <source src=\"data:video/mp4;base64,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\" type=\"video/mp4\" />\n",
       "             </video>"
      ],
      "text/plain": [
       "<IPython.core.display.HTML object>"
      ]
     },
     "execution_count": 8,
     "metadata": {},
     "output_type": "execute_result"
    }
   ],
   "source": [
    "# Initialize the game\n",
    "env = Environment(grid_size=size, max_time=T,temperature=temperature)\n",
    "\n",
    "# Initialize the agent!\n",
    "agent = RandomAgent()\n",
    "\n",
    "test(agent,env,epochs_test,prefix='random')\n",
    "HTML(display_videos('random9.mp4'))"
   ]
  },
  {
   "cell_type": "markdown",
   "metadata": {},
   "source": [
    "***\n",
    "## DQN"
   ]
  },
  {
   "cell_type": "markdown",
   "metadata": {},
   "source": [
    "Let us assume here that $T=\\infty$.\n",
    "\n",
    "***\n",
    "__Question 5__ Let $\\pi$ be a policy, show that:\n",
    "\n",
    "\\begin{equation*}\n",
    "Q^{\\pi}(s,a)=E_{(s',a')\\sim p(.|s,a)}[r(s,a)+\\gamma Q^{\\pi}(s',a')]\n",
    "\\end{equation*}\n",
    "\n",
    "Then, show that for the optimal policy $\\pi^*$ (we assume its existence), the following holds: \n",
    "\n",
    "\\begin{equation*}\n",
    "Q^{*}(s,a)=E_{s'\\sim \\pi^*(.|s,a)}[r(s,a)+\\gamma\\max_{a'}Q^{*}(s',a')].\n",
    "\\end{equation*}\n",
    "Finally, deduce that a plausible objective is:\n",
    "\n",
    "\\begin{equation*}\n",
    "\\mathcal{L}(\\theta)=E_{s' \\sim \\pi^*(.|s,a)}\\Vert r+\\gamma max_{a'}Q(s',a',\\theta)-Q(s,a,\\theta)\\Vert^{2}.\n",
    "\\end{equation*}\n",
    "\n",
    "\n"
   ]
  },
  {
   "cell_type": "markdown",
   "metadata": {},
   "source": [
    "**Question 1** We know that\n",
    "\n",
    "$$ Q^\\pi(s,a)=E_{p^{\\pi}}[\\sum_{t}\\gamma^{t}r(s_{t},a_{t})|s_{0}=s,a_{0}=a] \\> $$\n",
    "\n",
    "$$ Q^\\pi(s,a)=E_{p^{\\pi}}[ r(s_{0},a_{0}) + \\sum_{1 \\leq t}\\gamma^{t}r(s_{t},a_{t})|s_{0}=s,a_{0}=a] \\> $$\n",
    "\n",
    "$$ Q^\\pi(s,a)=E_{p^{\\pi}}[ r(s,a) + \\gamma \\sum_{1 \\leq t}\\gamma^{t-1}r(s_{t},a_{t})|s_{0}=s,a_{0}=a] \\> $$\n",
    "\n",
    "\n",
    "$$ Q^\\pi(s,a)=E_{(s',a')\\sim p(.|s,a)}[ r(s,a) + E_{p^{\\pi}}[ \\gamma \\sum_{t}\\gamma^{t}r(s_{t}^\\prime,a_{t}^\\prime)|s_{0}^\\prime=s^\\prime,a_{0}^\\prime=a^\\prime] ] \\> $$\n",
    "\n",
    "where $ (s_{t},a_{t}) = (s_{t}^\\prime,a_{t}^\\prime) $ and $ (s^\\prime,a^\\prime) = (s_1 , a_1)$  )\n",
    "\n",
    "In the last equation, we recognize the Q-function as the second member.\n",
    "\n",
    "$$ Q^{\\pi}(s,a)=E_{(s',a')\\sim p(.|s,a)}[r(s,a)+\\gamma Q^{\\pi}(s',a')] $$\n",
    "\n",
    "\n",
    "**Question 2**\n",
    "\n",
    "We saw in class that:\n",
    "\n",
    "$$ \\pi^*(s) = \\max_a Q^*(s,a) $$\n",
    "\n",
    "which implies, using the first question that : \n",
    "\n",
    "$$ Q^{*}(s,a)=E_{(s',a')\\sim \\pi^* (.|s,a)}[r(s,a)+\\gamma Q^{\\pi^*}(s',\\pi^*(s'))] $$\n",
    "\n",
    "and eventually, we get :\n",
    "\n",
    "\\begin{equation*}\n",
    "Q^{*}(s,a)=E_{s'\\sim \\pi^*(.|s,a)}[r(s,a)+\\gamma\\max_{a'}Q^{*}(s',a')].\n",
    "\\end{equation*}\n",
    "\n",
    "**Question 3**\n",
    "\n",
    "Using this cost function : \n",
    "\\begin{equation*}\n",
    "\\mathcal{L}(\\theta)=E_{s' \\sim \\pi^*(.|s,a)}\\Vert r+\\gamma\\max\\max_{a'}Q(s',a',\\theta)-Q(s,a,\\theta)\\Vert^{2}.\n",
    "\\end{equation*}\n",
    "\n",
    "will enable us to satisfy the Bellman equation. \n",
    "\n",
    "In fact we saw in the question 2 that the Q-value function is optimal if and only if the difference is null.\n",
    "It is therefore a plausible objective."
   ]
  },
  {
   "cell_type": "markdown",
   "metadata": {},
   "source": [
    "***\n",
    "The DQN-learning algorithm relies on these derivations to train the parameters $\\theta$ of a Deep Neural Network:\n",
    "\n",
    "1. At the state $s_t$, select the action $a_t$ with best reward using $Q_t$ and store the results;\n",
    "\n",
    "2. Obtain the new state $s_{t+1}$ from the environment $p$;\n",
    "\n",
    "3. Store $(s_t,a_t,s_{t+1})$;\n",
    "\n",
    "4. Obtain $Q_{t+1}$ by minimizing  $\\mathcal{L}$ from a recovered batch from the previously stored results.\n",
    "\n",
    "***\n",
    "__Question 6__ Implement the class ```Memory``` that stores moves (in a replay buffer) via ```remember``` and provides a ```random_access``` to these. Specify a maximum memory size to avoid side effects. You can for example use a ```list()``` and set by default ```max_memory=100```."
   ]
  },
  {
   "cell_type": "code",
   "execution_count": 9,
   "metadata": {},
   "outputs": [],
   "source": [
    "class Memory(object):\n",
    "    def __init__(self, max_memory=100):\n",
    "        self.max_memory = max_memory\n",
    "        self.memory = list()\n",
    "\n",
    "    def remember(self, m):\n",
    "        self.memory.append(m)\n",
    "        self.memory = self.memory[-self.max_memory:]\n",
    "\n",
    "    def random_access(self):\n",
    "        i = np.random.randint(0,len(self.memory))\n",
    "        return self.memory[i]"
   ]
  },
  {
   "cell_type": "markdown",
   "metadata": {},
   "source": [
    "***\n",
    "The pipeline we will use for training is given below:"
   ]
  },
  {
   "cell_type": "code",
   "execution_count": 10,
   "metadata": {},
   "outputs": [],
   "source": [
    "def train(agent,env,epoch,prefix=''):\n",
    "    # Number of won games\n",
    "    score = 0\n",
    "    loss = 0\n",
    "\n",
    "    for e in range(epoch):\n",
    "        # At each epoch, we restart to a fresh game and get the initial state\n",
    "        state = env.reset()\n",
    "        # This assumes that the games will terminate\n",
    "        game_over = False\n",
    "\n",
    "        win = 0\n",
    "        lose = 0\n",
    "\n",
    "        while not game_over:\n",
    "            # The agent performs an action\n",
    "            action = agent.act(state)\n",
    "\n",
    "            # Apply an action to the environment, get the next state, the reward\n",
    "            # and if the games end\n",
    "            prev_state = state\n",
    "            state, reward, game_over = env.act(action)\n",
    "\n",
    "            # Update the counters\n",
    "            if reward > 0:\n",
    "                win = win + reward\n",
    "            if reward < 0:\n",
    "                lose = lose - reward\n",
    "\n",
    "            # Apply the reinforcement strategy\n",
    "            loss = agent.reinforce(prev_state, state,  action, reward, game_over)\n",
    "\n",
    "        # Save as a mp4\n",
    "        if e % 10 == 0:\n",
    "            env.draw(prefix+str(e))\n",
    "\n",
    "        # Update stats\n",
    "        score += win-lose\n",
    "\n",
    "        print(\"Epoch {:03d}/{:03d} | Loss {:.4f} | Win/lose count {}/{} ({})\"\n",
    "              .format(e, epoch, loss, win, lose, win-lose))\n",
    "        agent.save(name_weights=prefix+'model.h5',name_model=prefix+'model.json')"
   ]
  },
  {
   "cell_type": "markdown",
   "metadata": {},
   "source": [
    "***\n",
    "__Question 7__ Implement the DQN training algorithm using a cascade of fully connected layers. You can use different learning rate, batch size or memory size parameters. In particular, the loss might oscillate while the player will start to win the games. You have to find a good criterium."
   ]
  },
  {
   "cell_type": "code",
   "execution_count": 11,
   "metadata": {},
   "outputs": [],
   "source": [
    "from keras.layers import Flatten,Dense,Conv2D"
   ]
  },
  {
   "cell_type": "code",
   "execution_count": 12,
   "metadata": {},
   "outputs": [],
   "source": [
    "class DQN(Agent):\n",
    "    def __init__(self, grid_size,  epsilon = 0.1, memory_size=100, batch_size = 16,n_state=2):\n",
    "        super(DQN, self).__init__(epsilon = epsilon)\n",
    "\n",
    "        # Discount for Q learning\n",
    "        self.discount = 0.99\n",
    "        \n",
    "        self.grid_size = grid_size\n",
    "        \n",
    "        # number of state\n",
    "        self.n_state = n_state\n",
    "\n",
    "        # Memory\n",
    "        self.memory = Memory(memory_size)\n",
    "        \n",
    "        # Batch size when learning\n",
    "        self.batch_size = batch_size\n",
    "\n",
    "    def learned_act(self, s):\n",
    "        chosen_action = np.argmax(self.model.predict(s.reshape((1,s.shape[0],s.shape[1],s.shape[2])))[0]) #Output of shape (1,4)\n",
    "        return chosen_action\n",
    "\n",
    "    def reinforce(self, s_, n_s_, a_, r_, game_over_):\n",
    "        # Two steps: first memorize the states, second learn from the pool\n",
    "\n",
    "        self.memory.remember([s_, n_s_, a_, r_, game_over_])\n",
    "        \n",
    "        input_states = np.zeros((self.batch_size, 5,5,self.n_state))\n",
    "        target_q = np.zeros((self.batch_size, 4))\n",
    "        \n",
    "        for i in range(self.batch_size):\n",
    "            s_, n_s_, a_, r_, game_over_ = self.memory.random_access()\n",
    "            input_states[i] = s_ #shape (5,5,2)\n",
    "            target_q[i] = self.model.predict(s_.reshape((1,s_.shape[0],s_.shape[1],s_.shape[2])))[0] #Prediction of the old network\n",
    "            \n",
    "            if game_over_:\n",
    "                target_q[i,a_] = r_\n",
    "            else:\n",
    "                target_q[i,a_] = r_ + self.discount*max(self.model.predict(n_s_.reshape((1,n_s_.shape[0],n_s_.shape[1],n_s_.shape[2])))[0])\n",
    "\n",
    "        # HINT: Clip the target to avoid exploiding gradients.. -- clipping is a bit tighter\n",
    "        target_q = np.clip(target_q, -3, 3)\n",
    "\n",
    "        l = self.model.train_on_batch(input_states, target_q)\n",
    "\n",
    "        return l\n",
    "\n",
    "    def save(self,name_weights='model.h5',name_model='model.json'):\n",
    "        self.model.save_weights(name_weights, overwrite=True)\n",
    "        with open(name_model, \"w\") as outfile:\n",
    "            json.dump(self.model.to_json(), outfile)\n",
    "            \n",
    "    def load(self,name_weights='model.h5',name_model='model.json'):\n",
    "        with open(name_model, \"r\") as jfile:\n",
    "            model = model_from_json(json.load(jfile))\n",
    "        model.load_weights(name_weights)\n",
    "        model.compile(\"sgd\", \"mse\")\n",
    "        self.model = model\n",
    "\n",
    "            \n",
    "class DQN_FC(DQN):\n",
    "    def __init__(self, *args, lr=0.1,**kwargs):\n",
    "        super(DQN_FC, self).__init__( *args,**kwargs)\n",
    "        \n",
    "        model = Sequential()\n",
    "        model.add(Flatten(input_shape = (5,5,self.n_state)))\n",
    "        model.add(Dense(32,activation = 'relu'))\n",
    "        \n",
    "        model.add(Dense(4))\n",
    "        \n",
    "        model.compile(sgd(lr=lr, decay=1e-4, momentum=0.0), \"mse\")\n",
    "        self.model = model"
   ]
  },
  {
   "cell_type": "code",
   "execution_count": 13,
   "metadata": {
    "scrolled": true
   },
   "outputs": [
    {
     "name": "stdout",
     "output_type": "stream",
     "text": [
      "Epoch 000/050 | Loss 0.0063 | Win/lose count 2.5/4.0 (-1.5)\n",
      "Epoch 001/050 | Loss 0.0195 | Win/lose count 4.5/2.0 (2.5)\n",
      "Epoch 002/050 | Loss 0.0173 | Win/lose count 2.0/5.0 (-3.0)\n",
      "Epoch 003/050 | Loss 0.0162 | Win/lose count 3.0/3.0 (0.0)\n",
      "Epoch 004/050 | Loss 0.0073 | Win/lose count 3.0/1.0 (2.0)\n",
      "Epoch 005/050 | Loss 0.0101 | Win/lose count 4.5/2.0 (2.5)\n",
      "Epoch 006/050 | Loss 0.0076 | Win/lose count 3.5/1.0 (2.5)\n",
      "Epoch 007/050 | Loss 0.0497 | Win/lose count 0.5/2.0 (-1.5)\n",
      "Epoch 008/050 | Loss 0.0058 | Win/lose count 2.5/2.0 (0.5)\n",
      "Epoch 009/050 | Loss 0.0118 | Win/lose count 1.5/5.0 (-3.5)\n",
      "Epoch 010/050 | Loss 0.0438 | Win/lose count 2.0/3.0 (-1.0)\n",
      "Epoch 011/050 | Loss 0.0126 | Win/lose count 5.5/4.0 (1.5)\n",
      "Epoch 012/050 | Loss 0.0100 | Win/lose count 7.5/7.0 (0.5)\n",
      "Epoch 013/050 | Loss 0.0083 | Win/lose count 6.0/3.0 (3.0)\n",
      "Epoch 014/050 | Loss 0.0065 | Win/lose count 4.0/8.0 (-4.0)\n",
      "Epoch 015/050 | Loss 0.0644 | Win/lose count 3.5/0 (3.5)\n",
      "Epoch 016/050 | Loss 0.0654 | Win/lose count 5.5/2.0 (3.5)\n",
      "Epoch 017/050 | Loss 0.0096 | Win/lose count 6.5/3.0 (3.5)\n",
      "Epoch 018/050 | Loss 0.0055 | Win/lose count 5.0/8.0 (-3.0)\n",
      "Epoch 019/050 | Loss 0.0048 | Win/lose count 3.0/4.0 (-1.0)\n",
      "Epoch 020/050 | Loss 0.0099 | Win/lose count 3.0/5.0 (-2.0)\n",
      "Epoch 021/050 | Loss 0.0707 | Win/lose count 2.5/1.0 (1.5)\n",
      "Epoch 022/050 | Loss 0.0079 | Win/lose count 6.5/2.0 (4.5)\n",
      "Epoch 023/050 | Loss 0.0100 | Win/lose count 5.5/5.0 (0.5)\n",
      "Epoch 024/050 | Loss 0.0039 | Win/lose count 7.5/5.0 (2.5)\n",
      "Epoch 025/050 | Loss 0.0034 | Win/lose count 6.0/2.0 (4.0)\n",
      "Epoch 026/050 | Loss 0.0056 | Win/lose count 6.5/3.0 (3.5)\n",
      "Epoch 027/050 | Loss 0.0034 | Win/lose count 8.0/2.0 (6.0)\n",
      "Epoch 028/050 | Loss 0.0061 | Win/lose count 6.0/6.0 (0.0)\n",
      "Epoch 029/050 | Loss 0.0028 | Win/lose count 6.0/2.0 (4.0)\n",
      "Epoch 030/050 | Loss 0.0040 | Win/lose count 6.0/2.0 (4.0)\n",
      "Epoch 031/050 | Loss 0.0059 | Win/lose count 7.0/2.0 (5.0)\n",
      "Epoch 032/050 | Loss 0.0079 | Win/lose count 9.0/4.0 (5.0)\n",
      "Epoch 033/050 | Loss 0.0032 | Win/lose count 4.5/0 (4.5)\n",
      "Epoch 034/050 | Loss 0.0092 | Win/lose count 5.0/6.0 (-1.0)\n",
      "Epoch 035/050 | Loss 0.0046 | Win/lose count 14.0/4.0 (10.0)\n",
      "Epoch 036/050 | Loss 0.0049 | Win/lose count 8.0/1.0 (7.0)\n",
      "Epoch 037/050 | Loss 0.0057 | Win/lose count 11.5/2.0 (9.5)\n",
      "Epoch 038/050 | Loss 0.0529 | Win/lose count 2.5/0 (2.5)\n",
      "Epoch 039/050 | Loss 0.0908 | Win/lose count 7.5/2.0 (5.5)\n",
      "Epoch 040/050 | Loss 0.0027 | Win/lose count 12.5/4.0 (8.5)\n",
      "Epoch 041/050 | Loss 0.0036 | Win/lose count 7.0/1.0 (6.0)\n",
      "Epoch 042/050 | Loss 0.0031 | Win/lose count 5.0/4.0 (1.0)\n",
      "Epoch 043/050 | Loss 0.0380 | Win/lose count 12.5/5.0 (7.5)\n",
      "Epoch 044/050 | Loss 0.0053 | Win/lose count 12.0/2.0 (10.0)\n",
      "Epoch 045/050 | Loss 0.0049 | Win/lose count 4.0/0 (4.0)\n",
      "Epoch 046/050 | Loss 0.0037 | Win/lose count 6.5/1.0 (5.5)\n",
      "Epoch 047/050 | Loss 0.0065 | Win/lose count 7.0/5.0 (2.0)\n",
      "Epoch 048/050 | Loss 0.0480 | Win/lose count 10.0/4.0 (6.0)\n",
      "Epoch 049/050 | Loss 0.0052 | Win/lose count 11.5/7.0 (4.5)\n"
     ]
    },
    {
     "data": {
      "text/html": [
       "<video width=\"320\" height=\"240\" controls>\n",
       "                <source src=\"data:video/mp4;base64,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\" type=\"video/mp4\" />\n",
       "             </video>"
      ],
      "text/plain": [
       "<IPython.core.display.HTML object>"
      ]
     },
     "execution_count": 13,
     "metadata": {},
     "output_type": "execute_result"
    }
   ],
   "source": [
    "env = Environment(grid_size=size, max_time=T, temperature=0.3)\n",
    "agent = DQN_FC(size, lr=.1, epsilon = 0.1, memory_size=2000, batch_size = 32)\n",
    "train(agent, env, epochs_train, prefix='fc_train')\n",
    "HTML(display_videos('fc_train10.mp4'))"
   ]
  },
  {
   "cell_type": "code",
   "execution_count": 14,
   "metadata": {},
   "outputs": [
    {
     "data": {
      "text/html": [
       "<video width=\"320\" height=\"240\" controls>\n",
       "                <source src=\"data:video/mp4;base64,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\" type=\"video/mp4\" />\n",
       "             </video>"
      ],
      "text/plain": [
       "<IPython.core.display.HTML object>"
      ]
     },
     "execution_count": 14,
     "metadata": {},
     "output_type": "execute_result"
    }
   ],
   "source": [
    "HTML(display_videos('fc_train50.mp4'))"
   ]
  },
  {
   "cell_type": "markdown",
   "metadata": {},
   "source": [
    "***\n",
    "***\n",
    "__Question 8__ Implement the DQN training algorithm using a CNN (for example, 2 convolutional layers and one final fully connected layer)."
   ]
  },
  {
   "cell_type": "code",
   "execution_count": 15,
   "metadata": {},
   "outputs": [],
   "source": [
    "class DQN_CNN(DQN):\n",
    "    def __init__(self, *args,lr=0.1,**kwargs):\n",
    "        super(DQN_CNN, self).__init__(*args,**kwargs)\n",
    "        \n",
    "        model = Sequential()\n",
    "        model.add(Conv2D(64,(2,2),input_shape = (5,5,self.n_state),activation = 'relu'))\n",
    "        model.add(Conv2D(32,(2,2),activation = 'relu'))\n",
    "        model.add(Flatten())\n",
    "        model.add(Dense(4))\n",
    "        \n",
    "        model.compile(sgd(lr=lr, decay=1e-4, momentum=0.0), \"mse\")\n",
    "        print(model.summary())\n",
    "        self.model = model"
   ]
  },
  {
   "cell_type": "code",
   "execution_count": 16,
   "metadata": {},
   "outputs": [
    {
     "name": "stdout",
     "output_type": "stream",
     "text": [
      "_________________________________________________________________\n",
      "Layer (type)                 Output Shape              Param #   \n",
      "=================================================================\n",
      "conv2d_1 (Conv2D)            (None, 4, 4, 64)          576       \n",
      "_________________________________________________________________\n",
      "conv2d_2 (Conv2D)            (None, 3, 3, 32)          8224      \n",
      "_________________________________________________________________\n",
      "flatten_2 (Flatten)          (None, 288)               0         \n",
      "_________________________________________________________________\n",
      "dense_3 (Dense)              (None, 4)                 1156      \n",
      "=================================================================\n",
      "Total params: 9,956\n",
      "Trainable params: 9,956\n",
      "Non-trainable params: 0\n",
      "_________________________________________________________________\n",
      "None\n",
      "Epoch 000/050 | Loss 0.0056 | Win/lose count 3.5/5.0 (-1.5)\n",
      "Epoch 001/050 | Loss 0.0134 | Win/lose count 2.0/4.0 (-2.0)\n",
      "Epoch 002/050 | Loss 0.0044 | Win/lose count 4.0/2.0 (2.0)\n",
      "Epoch 003/050 | Loss 0.0116 | Win/lose count 9.0/3.0 (6.0)\n",
      "Epoch 004/050 | Loss 0.0057 | Win/lose count 2.0/5.0 (-3.0)\n",
      "Epoch 005/050 | Loss 0.0026 | Win/lose count 3.0/2.0 (1.0)\n",
      "Epoch 006/050 | Loss 0.0034 | Win/lose count 9.0/1.0 (8.0)\n",
      "Epoch 007/050 | Loss 0.0006 | Win/lose count 4.5/2.0 (2.5)\n",
      "Epoch 008/050 | Loss 0.0018 | Win/lose count 7.0/3.0 (4.0)\n",
      "Epoch 009/050 | Loss 0.0015 | Win/lose count 9.0/1.0 (8.0)\n",
      "Epoch 010/050 | Loss 0.0015 | Win/lose count 11.0/4.0 (7.0)\n",
      "Epoch 011/050 | Loss 0.0017 | Win/lose count 11.0/1.0 (10.0)\n",
      "Epoch 012/050 | Loss 0.0030 | Win/lose count 6.0/1.0 (5.0)\n",
      "Epoch 013/050 | Loss 0.0027 | Win/lose count 5.5/2.0 (3.5)\n",
      "Epoch 014/050 | Loss 0.0022 | Win/lose count 18.0/2.0 (16.0)\n",
      "Epoch 015/050 | Loss 0.0039 | Win/lose count 6.0/3.0 (3.0)\n",
      "Epoch 016/050 | Loss 0.0071 | Win/lose count 16.0/4.0 (12.0)\n",
      "Epoch 017/050 | Loss 0.0035 | Win/lose count 3.5/3.0 (0.5)\n",
      "Epoch 018/050 | Loss 0.0017 | Win/lose count 7.0/3.0 (4.0)\n",
      "Epoch 019/050 | Loss 0.0029 | Win/lose count 15.5/1.0 (14.5)\n",
      "Epoch 020/050 | Loss 0.0028 | Win/lose count 17.0/4.0 (13.0)\n",
      "Epoch 021/050 | Loss 0.0032 | Win/lose count 9.0/4.0 (5.0)\n",
      "Epoch 022/050 | Loss 0.0030 | Win/lose count 16.0/4.0 (12.0)\n",
      "Epoch 023/050 | Loss 0.0034 | Win/lose count 13.5/2.0 (11.5)\n",
      "Epoch 024/050 | Loss 0.0600 | Win/lose count 17.0/2.0 (15.0)\n",
      "Epoch 025/050 | Loss 0.0052 | Win/lose count 13.0/1.0 (12.0)\n",
      "Epoch 026/050 | Loss 0.0015 | Win/lose count 11.5/3.0 (8.5)\n",
      "Epoch 027/050 | Loss 0.0036 | Win/lose count 18.0/1.0 (17.0)\n",
      "Epoch 028/050 | Loss 0.0063 | Win/lose count 10.0/3.0 (7.0)\n",
      "Epoch 029/050 | Loss 0.0072 | Win/lose count 8.5/2.0 (6.5)\n",
      "Epoch 030/050 | Loss 0.0487 | Win/lose count 15.0/1.0 (14.0)\n",
      "Epoch 031/050 | Loss 0.0022 | Win/lose count 16.5/2.0 (14.5)\n",
      "Epoch 032/050 | Loss 0.0557 | Win/lose count 23.5/6.0 (17.5)\n",
      "Epoch 033/050 | Loss 0.0012 | Win/lose count 18.5/2.0 (16.5)\n",
      "Epoch 034/050 | Loss 0.0021 | Win/lose count 22.0/1.0 (21.0)\n",
      "Epoch 035/050 | Loss 0.0034 | Win/lose count 21.5/2.0 (19.5)\n",
      "Epoch 036/050 | Loss 0.0024 | Win/lose count 26.0/3.0 (23.0)\n",
      "Epoch 037/050 | Loss 0.0611 | Win/lose count 26.0/2.0 (24.0)\n",
      "Epoch 038/050 | Loss 0.0021 | Win/lose count 24.0/1.0 (23.0)\n",
      "Epoch 039/050 | Loss 0.0038 | Win/lose count 24.0/6.0 (18.0)\n",
      "Epoch 040/050 | Loss 0.0026 | Win/lose count 19.0/1.0 (18.0)\n",
      "Epoch 041/050 | Loss 0.0021 | Win/lose count 18.5/2.0 (16.5)\n",
      "Epoch 042/050 | Loss 0.0024 | Win/lose count 11.0/5.0 (6.0)\n",
      "Epoch 043/050 | Loss 0.0532 | Win/lose count 12.5/3.0 (9.5)\n",
      "Epoch 044/050 | Loss 0.0030 | Win/lose count 16.5/3.0 (13.5)\n",
      "Epoch 045/050 | Loss 0.0019 | Win/lose count 15.5/4.0 (11.5)\n",
      "Epoch 046/050 | Loss 0.0021 | Win/lose count 15.0/1.0 (14.0)\n",
      "Epoch 047/050 | Loss 0.0024 | Win/lose count 12.0/1.0 (11.0)\n",
      "Epoch 048/050 | Loss 0.0021 | Win/lose count 19.0/1.0 (18.0)\n",
      "Epoch 049/050 | Loss 0.0014 | Win/lose count 13.5/3.0 (10.5)\n"
     ]
    }
   ],
   "source": [
    "env = Environment(grid_size=size, max_time=T, temperature=0.3)\n",
    "agent = DQN_CNN(size, lr=.1, epsilon = 0.1, memory_size=2000, batch_size = 32)\n",
    "train(agent,env,epochs_train,prefix='cnn_train')"
   ]
  },
  {
   "cell_type": "code",
   "execution_count": 17,
   "metadata": {},
   "outputs": [
    {
     "data": {
      "text/html": [
       "<video width=\"320\" height=\"240\" controls>\n",
       "                <source src=\"data:video/mp4;base64,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\" type=\"video/mp4\" />\n",
       "             </video>"
      ],
      "text/plain": [
       "<IPython.core.display.HTML object>"
      ]
     },
     "execution_count": 17,
     "metadata": {},
     "output_type": "execute_result"
    }
   ],
   "source": [
    "HTML(display_videos('cnn_train50.mp4'))"
   ]
  },
  {
   "cell_type": "markdown",
   "metadata": {},
   "source": [
    "***\n",
    "***\n",
    "__Question 9__ Test both algorithms and compare their performances. Which issue(s) do you observe? Observe also different behaviors by changing the temperature."
   ]
  },
  {
   "cell_type": "code",
   "execution_count": 18,
   "metadata": {},
   "outputs": [
    {
     "name": "stdout",
     "output_type": "stream",
     "text": [
      "_________________________________________________________________\n",
      "Layer (type)                 Output Shape              Param #   \n",
      "=================================================================\n",
      "conv2d_3 (Conv2D)            (None, 4, 4, 64)          576       \n",
      "_________________________________________________________________\n",
      "conv2d_4 (Conv2D)            (None, 3, 3, 32)          8224      \n",
      "_________________________________________________________________\n",
      "flatten_3 (Flatten)          (None, 288)               0         \n",
      "_________________________________________________________________\n",
      "dense_4 (Dense)              (None, 4)                 1156      \n",
      "=================================================================\n",
      "Total params: 9,956\n",
      "Trainable params: 9,956\n",
      "Non-trainable params: 0\n",
      "_________________________________________________________________\n",
      "None\n",
      "Test of the CNN\n",
      "Win/lose count 6.5/3.0. Average score (3.5)\n",
      "Win/lose count 19.0/2.0. Average score (10.25)\n",
      "Win/lose count 10.5/0. Average score (10.333333333333334)\n",
      "Win/lose count 22.5/4.0. Average score (12.375)\n",
      "Win/lose count 18.5/5.0. Average score (12.6)\n",
      "Win/lose count 40.5/0. Average score (17.25)\n",
      "Win/lose count 12.0/5.0. Average score (15.785714285714286)\n",
      "Win/lose count 10.0/1.0. Average score (14.9375)\n",
      "Win/lose count 13.0/2.0. Average score (14.5)\n",
      "Win/lose count 8.0/3.0. Average score (13.55)\n",
      "Win/lose count 24.0/2.0. Average score (14.318181818181818)\n",
      "Win/lose count 6.5/3.0. Average score (13.416666666666666)\n",
      "Win/lose count 37.5/1.0. Average score (15.192307692307692)\n",
      "Win/lose count 8.5/1.0. Average score (14.642857142857142)\n",
      "Win/lose count 22.5/2.0. Average score (15.033333333333333)\n",
      "Win/lose count 7.0/1.0. Average score (14.46875)\n",
      "Win/lose count 14.0/1.0. Average score (14.382352941176471)\n",
      "Win/lose count 21.5/4.0. Average score (14.555555555555555)\n",
      "Win/lose count 16.5/4.0. Average score (14.447368421052632)\n",
      "Win/lose count 21.0/4.0. Average score (14.575)\n",
      "Win/lose count 22.5/2.0. Average score (14.857142857142858)\n",
      "Win/lose count 26.0/4.0. Average score (15.181818181818182)\n",
      "Win/lose count 26.5/3.0. Average score (15.543478260869565)\n",
      "Win/lose count 22.5/4.0. Average score (15.666666666666666)\n",
      "Win/lose count 32.0/5.0. Average score (16.12)\n",
      "Win/lose count 10.5/1.0. Average score (15.865384615384615)\n",
      "Win/lose count 18.0/4.0. Average score (15.796296296296296)\n",
      "Win/lose count 15.5/1.0. Average score (15.75)\n",
      "Win/lose count 18.5/3.0. Average score (15.741379310344827)\n",
      "Win/lose count 19.5/3.0. Average score (15.766666666666667)\n",
      "Final score: 15.766666666666667\n",
      "Test of the FC\n",
      "Win/lose count 9.0/3.0. Average score (6.0)\n",
      "Win/lose count 8.0/3.0. Average score (5.5)\n",
      "Win/lose count 4.0/5.0. Average score (3.3333333333333335)\n",
      "Win/lose count 6.5/13.0. Average score (0.875)\n",
      "Win/lose count 9.0/8.0. Average score (0.9)\n",
      "Win/lose count 6.5/2.0. Average score (1.5)\n",
      "Win/lose count 9.0/3.0. Average score (2.142857142857143)\n",
      "Win/lose count 7.0/7.0. Average score (1.875)\n",
      "Win/lose count 4.0/6.0. Average score (1.4444444444444444)\n",
      "Win/lose count 9.0/7.0. Average score (1.5)\n",
      "Win/lose count 7.5/9.0. Average score (1.2272727272727273)\n",
      "Win/lose count 7.5/5.0. Average score (1.3333333333333333)\n",
      "Win/lose count 7.5/4.0. Average score (1.5)\n",
      "Win/lose count 10.0/7.0. Average score (1.6071428571428572)\n",
      "Win/lose count 9.5/6.0. Average score (1.7333333333333334)\n",
      "Win/lose count 7.0/5.0. Average score (1.75)\n",
      "Win/lose count 7.0/5.0. Average score (1.7647058823529411)\n",
      "Win/lose count 11.0/13.0. Average score (1.5555555555555556)\n",
      "Win/lose count 7.0/3.0. Average score (1.6842105263157894)\n",
      "Win/lose count 3.5/2.0. Average score (1.675)\n",
      "Win/lose count 8.0/3.0. Average score (1.8333333333333333)\n",
      "Win/lose count 6.5/8.0. Average score (1.6818181818181819)\n",
      "Win/lose count 7.5/5.0. Average score (1.7173913043478262)\n",
      "Win/lose count 4.0/3.0. Average score (1.6875)\n",
      "Win/lose count 9.0/5.0. Average score (1.78)\n",
      "Win/lose count 4.0/2.0. Average score (1.7884615384615385)\n",
      "Win/lose count 9.0/5.0. Average score (1.8703703703703705)\n",
      "Win/lose count 7.0/7.0. Average score (1.8035714285714286)\n",
      "Win/lose count 4.5/9.0. Average score (1.5862068965517242)\n",
      "Win/lose count 10.0/4.0. Average score (1.7333333333333334)\n",
      "Final score: 1.7333333333333334\n"
     ]
    }
   ],
   "source": [
    "epochs_test = 30\n",
    "\n",
    "env = Environment(grid_size=size, max_time=T,temperature=0.7)\n",
    "agent_cnn = DQN_CNN(size, lr=.1, epsilon = 0.1, memory_size=2000, batch_size = 32)\n",
    "agent_cnn.load(name_weights='cnn_trainmodel.h5',name_model='cnn_trainmodel.json')\n",
    "\n",
    "agent_fc = DQN_FC(size, lr=.1, epsilon = 0.1, memory_size=2000, batch_size = 32)\n",
    "agent_cnn.load(name_weights='fc_trainmodel.h5',name_model='fc_trainmodel.json')\n",
    "print('Test of the CNN')\n",
    "test(agent_cnn,env,epochs_test,prefix='cnn_test')\n",
    "print('Test of the FC')\n",
    "test(agent_fc,env,epochs_test,prefix='fc_test')"
   ]
  },
  {
   "cell_type": "code",
   "execution_count": 28,
   "metadata": {},
   "outputs": [
    {
     "data": {
      "text/html": [
       "<video width=\"320\" height=\"240\" controls>\n",
       "                <source src=\"data:video/mp4;base64,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\" type=\"video/mp4\" />\n",
       "             </video>"
      ],
      "text/plain": [
       "<IPython.core.display.HTML object>"
      ]
     },
     "execution_count": 28,
     "metadata": {},
     "output_type": "execute_result"
    }
   ],
   "source": [
    "HTML(display_videos('fc_test14.mp4'))"
   ]
  },
  {
   "cell_type": "code",
   "execution_count": 27,
   "metadata": {},
   "outputs": [
    {
     "data": {
      "text/html": [
       "<video width=\"320\" height=\"240\" controls>\n",
       "                <source src=\"data:video/mp4;base64,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\" type=\"video/mp4\" />\n",
       "             </video>"
      ],
      "text/plain": [
       "<IPython.core.display.HTML object>"
      ]
     },
     "execution_count": 27,
     "metadata": {},
     "output_type": "execute_result"
    }
   ],
   "source": [
    "HTML(display_videos('cnn_test14.mp4'))"
   ]
  },
  {
   "cell_type": "markdown",
   "metadata": {},
   "source": [
    "We notice that the network using convolutional layers performs better than the one using fully connected layers. We can see that as the temperature increases, the score increases which is intuitive due to the presence of more rewards in the map.\n",
    "\n",
    "Also we notice that there is a lack of exploration. It goes in a direction but comes back in the same direction."
   ]
  },
  {
   "cell_type": "markdown",
   "metadata": {},
   "source": [
    "***\n",
    "\n",
    "The algorithm tends to not explore the map which can be an issue. We propose two ideas in order to encourage exploration:\n",
    "1. Incorporating a decreasing $\\epsilon$-greedy exploration. You can use the method ```set_epsilon```\n",
    "2. Append via the environment a new state that describes if a cell has been visited or not\n",
    "\n",
    "***\n",
    "__Question 10__ Design a new ```train_explore``` function and environment class ```EnvironmentExploring``` to tackle the issue of exploration.\n",
    "\n"
   ]
  },
  {
   "cell_type": "code",
   "execution_count": 32,
   "metadata": {},
   "outputs": [],
   "source": [
    "def train_explore(agent,env,epoch,decay,prefix=''):\n",
    "    # Number of won games\n",
    "    score = 0\n",
    "    loss = 0\n",
    "    \n",
    "    epsilon_init = agent.epsilon\n",
    "    \n",
    "    for e in range(epoch):\n",
    "        # At each epoch, we restart to a fresh game and get the initial state\n",
    "        state = env.reset()\n",
    "        # This assumes that the games will terminate\n",
    "        game_over = False\n",
    "        \n",
    "        agent.epsilon = epsilon_init\n",
    "        \n",
    "        win = 0\n",
    "        lose = 0\n",
    "\n",
    "        while not game_over:\n",
    "            # The agent performs an action\n",
    "            agent.set_epsilon(agent.epsilon*decay)\n",
    "            action = agent.act(state)\n",
    "\n",
    "            # Apply an action to the environment, get the next state, the reward\n",
    "            # and if the games end\n",
    "            prev_state = state\n",
    "            state, reward, game_over = env.act(action,train=True)\n",
    "\n",
    "            # Update the counters\n",
    "            if reward > 0:\n",
    "                win = win + reward\n",
    "            if reward < 0:\n",
    "                lose = lose - reward\n",
    "\n",
    "            # Apply the reinforcement strategy\n",
    "            loss = agent.reinforce(prev_state, state,  action, reward, game_over)\n",
    "\n",
    "        # Save as a mp4\n",
    "        if e % 10 == 0:\n",
    "            env.draw(prefix+str(e))\n",
    "\n",
    "        # Update stats\n",
    "        score += win-lose\n",
    "\n",
    "        print(\"Epoch {:03d}/{:03d} | Loss {:.4f} | Win/lose count {}/{} ({})\"\n",
    "              .format(e, epoch, loss, win, lose, win-lose))\n",
    "        agent.save(name_weights=prefix+'model.h5',name_model=prefix+'model.json')\n",
    "        \n",
    "class EnvironmentExploring(object):\n",
    "    def __init__(self, grid_size=10, max_time=500, temperature=0.1):\n",
    "        grid_size = grid_size + 4\n",
    "        self.grid_size = grid_size\n",
    "        self.max_time = max_time\n",
    "        self.temperature = temperature\n",
    "\n",
    "        #board on which one plays\n",
    "        self.malus_position = np.zeros((grid_size,grid_size))\n",
    "        self.board = np.zeros((grid_size,grid_size))\n",
    "        self.position = np.zeros((grid_size,grid_size))\n",
    "\n",
    "        # coordinate of the rat\n",
    "        self.x = 0\n",
    "        self.y = 1\n",
    "\n",
    "        # self time\n",
    "        self.t = 0\n",
    "\n",
    "        self.scale=16\n",
    "\n",
    "        self.to_draw = np.zeros((max_time+2, grid_size*self.scale, grid_size*self.scale, 3))\n",
    "\n",
    "    def draw(self,e):\n",
    "        skvideo.io.vwrite(str(e) + '.mp4', self.to_draw)\n",
    "\n",
    "    def get_frame(self,t):\n",
    "        b = np.zeros((self.grid_size,self.grid_size,3))+128\n",
    "        b[self.board>0,0] = 256\n",
    "        b[self.board < 0, 2] = 256\n",
    "        b[self.x,self.y,:]=256\n",
    "        b[-2:,:,:]=0\n",
    "        b[:,-2:,:]=0\n",
    "        b[:2,:,:]=0\n",
    "        b[:,:2,:]=0\n",
    "        \n",
    "        b =  cv2.resize(b, None, fx=self.scale, fy=self.scale, interpolation=cv2.INTER_NEAREST)\n",
    "\n",
    "        self.to_draw[t,:,:,:]=b\n",
    "\n",
    "\n",
    "    def act(self, action,train=True):\n",
    "        \"\"\"This function returns the new state, reward and decides if the\n",
    "        game ends.\"\"\"\n",
    "\n",
    "        self.get_frame(int(self.t))\n",
    "\n",
    "        self.position = np.zeros((self.grid_size, self.grid_size))\n",
    "\n",
    "        self.position[0:2,:]= -1\n",
    "        self.position[:,0:2] = -1\n",
    "        self.position[-2:, :] = -1\n",
    "        self.position[:, -2:] = -1\n",
    "\n",
    "        self.position[self.x, self.y] = 1\n",
    "        if action == 0:\n",
    "            if self.x == self.grid_size-3:\n",
    "                self.x = self.x-1\n",
    "            else:\n",
    "                self.x = self.x + 1\n",
    "        elif action == 1:\n",
    "            if self.x == 2:\n",
    "                self.x = self.x+1\n",
    "            else:\n",
    "                self.x = self.x-1\n",
    "        elif action == 2:\n",
    "            if self.y == self.grid_size - 3:\n",
    "                self.y = self.y - 1\n",
    "            else:\n",
    "                self.y = self.y + 1\n",
    "        elif action == 3:\n",
    "            if self.y == 2:\n",
    "                self.y = self.y + 1\n",
    "            else:\n",
    "                self.y = self.y - 1\n",
    "        else:\n",
    "            RuntimeError('Error: action not recognized')\n",
    "\n",
    "        self.t = self.t + 1\n",
    "        \n",
    "        reward = 0\n",
    "        \n",
    "        if train:\n",
    "            reward = -self.malus_position[self.x, self.y]\n",
    "            \n",
    "        self.malus_position[self.x, self.y] = 0.1\n",
    "\n",
    "        reward = reward + self.board[self.x, self.y]\n",
    "\n",
    "        self.board[self.x, self.y] = 0\n",
    "        game_over = self.t > self.max_time\n",
    "        state = np.concatenate((self.malus_position.reshape(self.grid_size, self.grid_size,1),\n",
    "                                self.board.reshape(self.grid_size, self.grid_size,1),\n",
    "                        self.position.reshape(self.grid_size, self.grid_size,1)),axis=2)\n",
    "        state = state[self.x-2:self.x+3,self.y-2:self.y+3,:]\n",
    "\n",
    "        return state, reward, game_over\n",
    "\n",
    "    def reset(self):\n",
    "        \"\"\"This function resets the game and returns the initial state\"\"\"\n",
    "\n",
    "        self.x = np.random.randint(3, self.grid_size-3, size=1)[0]\n",
    "        self.y = np.random.randint(3, self.grid_size-3, size=1)[0]\n",
    "\n",
    "\n",
    "        bonus = 0.5*np.random.binomial(1,self.temperature,size=self.grid_size**2)\n",
    "        bonus = bonus.reshape(self.grid_size,self.grid_size)\n",
    "\n",
    "        malus = -1.0*np.random.binomial(1,self.temperature,size=self.grid_size**2)\n",
    "        malus = malus.reshape(self.grid_size, self.grid_size)\n",
    "\n",
    "        self.to_draw = np.zeros((self.max_time+2, self.grid_size*self.scale, self.grid_size*self.scale, 3))\n",
    "\n",
    "        malus[bonus>0]=0\n",
    "\n",
    "        self.board = bonus + malus\n",
    "\n",
    "        self.position = np.zeros((self.grid_size, self.grid_size))\n",
    "        self.position[0:2,:]= -1\n",
    "        self.position[:,0:2] = -1\n",
    "        self.position[-2:, :] = -1\n",
    "        self.position[-2:, :] = -1\n",
    "        self.board[self.x,self.y] = 0\n",
    "        self.t = 0\n",
    "\n",
    "        state = np.concatenate((self.malus_position.reshape(self.grid_size, self.grid_size,1),\n",
    "                                self.board.reshape(self.grid_size, self.grid_size,1),\n",
    "                        self.position.reshape(self.grid_size, self.grid_size,1)),axis=2)\n",
    "\n",
    "        state = state[self.x - 2:self.x + 3, self.y - 2:self.y + 3, :]\n",
    "        return state\n"
   ]
  },
  {
   "cell_type": "code",
   "execution_count": 33,
   "metadata": {},
   "outputs": [
    {
     "name": "stdout",
     "output_type": "stream",
     "text": [
      "_________________________________________________________________\n",
      "Layer (type)                 Output Shape              Param #   \n",
      "=================================================================\n",
      "conv2d_7 (Conv2D)            (None, 4, 4, 64)          832       \n",
      "_________________________________________________________________\n",
      "conv2d_8 (Conv2D)            (None, 3, 3, 32)          8224      \n",
      "_________________________________________________________________\n",
      "flatten_6 (Flatten)          (None, 288)               0         \n",
      "_________________________________________________________________\n",
      "dense_8 (Dense)              (None, 4)                 1156      \n",
      "=================================================================\n",
      "Total params: 10,212\n",
      "Trainable params: 10,212\n",
      "Non-trainable params: 0\n",
      "_________________________________________________________________\n",
      "None\n",
      "Epoch 000/050 | Loss 0.0048 | Win/lose count 8.0/21.10000000000004 (-13.10000000000004)\n",
      "Epoch 001/050 | Loss 0.0082 | Win/lose count 10.100000000000003/21.300000000000036 (-11.200000000000033)\n",
      "Epoch 002/050 | Loss 0.0038 | Win/lose count 9.800000000000002/20.90000000000003 (-11.100000000000028)\n",
      "Epoch 003/050 | Loss 0.0101 | Win/lose count 10.000000000000005/17.799999999999983 (-7.799999999999978)\n",
      "Epoch 004/050 | Loss 0.0140 | Win/lose count 6.1000000000000005/18.499999999999993 (-12.399999999999991)\n",
      "Epoch 005/050 | Loss 0.0030 | Win/lose count 22.0/15.599999999999962 (6.400000000000038)\n",
      "Epoch 006/050 | Loss 0.0020 | Win/lose count 21.9/17.799999999999986 (4.100000000000012)\n",
      "Epoch 007/050 | Loss 0.0470 | Win/lose count 40.09999999999994/12.299999999999978 (27.79999999999996)\n",
      "Epoch 008/050 | Loss 0.0050 | Win/lose count 25.59999999999998/19.0 (6.59999999999998)\n",
      "Epoch 009/050 | Loss 0.0023 | Win/lose count 25.799999999999976/15.699999999999967 (10.100000000000009)\n",
      "Epoch 010/050 | Loss 0.0058 | Win/lose count 38.69999999999993/11.499999999999975 (27.199999999999957)\n",
      "Epoch 011/050 | Loss 0.0115 | Win/lose count 37.999999999999936/11.599999999999977 (26.39999999999996)\n",
      "Epoch 012/050 | Loss 0.0050 | Win/lose count 29.69999999999996/17.69999999999999 (11.999999999999972)\n",
      "Epoch 013/050 | Loss 0.0040 | Win/lose count 19.999999999999993/17.099999999999973 (2.90000000000002)\n",
      "Epoch 014/050 | Loss 0.0125 | Win/lose count 39.59999999999992/12.19999999999998 (27.39999999999994)\n",
      "Epoch 015/050 | Loss 0.0047 | Win/lose count 33.199999999999946/13.79999999999997 (19.399999999999977)\n",
      "Epoch 016/050 | Loss 0.1287 | Win/lose count 32.39999999999995/14.99999999999997 (17.399999999999977)\n",
      "Epoch 017/050 | Loss 0.0104 | Win/lose count 35.59999999999994/12.199999999999974 (23.399999999999963)\n",
      "Epoch 018/050 | Loss 0.0075 | Win/lose count 39.199999999999925/10.29999999999998 (28.899999999999945)\n",
      "Epoch 019/050 | Loss 0.0065 | Win/lose count 27.999999999999964/15.099999999999968 (12.899999999999997)\n",
      "Epoch 020/050 | Loss 0.0068 | Win/lose count 33.99999999999994/13.599999999999968 (20.399999999999977)\n",
      "Epoch 021/050 | Loss 0.0093 | Win/lose count 26.79999999999997/16.399999999999967 (10.400000000000002)\n",
      "Epoch 022/050 | Loss 0.0076 | Win/lose count 20.89999999999999/17.899999999999988 (3.0000000000000036)\n",
      "Epoch 023/050 | Loss 0.0139 | Win/lose count 42.39999999999991/12.499999999999975 (29.899999999999938)\n",
      "Epoch 024/050 | Loss 0.0077 | Win/lose count 39.99999999999992/11.099999999999977 (28.899999999999945)\n",
      "Epoch 025/050 | Loss 0.0056 | Win/lose count 39.99999999999992/13.09999999999997 (26.899999999999952)\n",
      "Epoch 026/050 | Loss 0.0060 | Win/lose count 39.199999999999925/12.299999999999972 (26.899999999999952)\n",
      "Epoch 027/050 | Loss 0.0039 | Win/lose count 35.999999999999936/12.099999999999973 (23.899999999999963)\n",
      "Epoch 028/050 | Loss 0.0114 | Win/lose count 36.399999999999935/10.999999999999977 (25.399999999999956)\n",
      "Epoch 029/050 | Loss 0.0042 | Win/lose count 39.99999999999992/12.09999999999998 (27.89999999999994)\n",
      "Epoch 030/050 | Loss 0.0062 | Win/lose count 45.1999999999999/10.799999999999978 (34.39999999999993)\n",
      "Epoch 031/050 | Loss 0.0049 | Win/lose count 22.799999999999983/14.399999999999965 (8.400000000000018)\n",
      "Epoch 032/050 | Loss 0.0085 | Win/lose count 48.39999999999989/11.999999999999977 (36.39999999999991)\n",
      "Epoch 033/050 | Loss 0.0108 | Win/lose count 41.999999999999915/11.599999999999975 (30.39999999999994)\n",
      "Epoch 034/050 | Loss 0.0339 | Win/lose count 29.19999999999996/14.799999999999963 (14.399999999999997)\n",
      "Epoch 035/050 | Loss 0.0252 | Win/lose count 41.19999999999992/11.799999999999981 (29.399999999999935)\n",
      "Epoch 036/050 | Loss 0.0121 | Win/lose count 34.79999999999994/11.399999999999975 (23.399999999999963)\n",
      "Epoch 037/050 | Loss 0.0064 | Win/lose count 45.5999999999999/12.699999999999974 (32.89999999999993)\n",
      "Epoch 038/050 | Loss 0.0080 | Win/lose count 37.99999999999993/13.599999999999977 (24.399999999999952)\n",
      "Epoch 039/050 | Loss 0.0075 | Win/lose count 37.99999999999993/11.599999999999975 (26.399999999999956)\n",
      "Epoch 040/050 | Loss 0.0029 | Win/lose count 39.99999999999992/11.09999999999998 (28.89999999999994)\n",
      "Epoch 041/050 | Loss 0.0057 | Win/lose count 47.599999999999895/10.19999999999998 (37.39999999999991)\n",
      "Epoch 042/050 | Loss 0.0066 | Win/lose count 37.59999999999993/10.699999999999978 (26.899999999999952)\n",
      "Epoch 043/050 | Loss 0.0088 | Win/lose count 40.39999999999992/9.99999999999998 (30.39999999999994)\n",
      "Epoch 044/050 | Loss 0.0302 | Win/lose count 27.599999999999966/16.199999999999964 (11.400000000000002)\n",
      "Epoch 045/050 | Loss 0.0074 | Win/lose count 33.199999999999946/13.799999999999967 (19.399999999999977)\n",
      "Epoch 046/050 | Loss 0.0319 | Win/lose count 43.59999999999991/12.199999999999973 (31.399999999999935)\n",
      "Epoch 047/050 | Loss 0.0065 | Win/lose count 30.399999999999956/17.499999999999986 (12.89999999999997)\n",
      "Epoch 048/050 | Loss 0.0075 | Win/lose count 40.79999999999992/13.89999999999998 (26.899999999999938)\n",
      "Epoch 049/050 | Loss 0.0051 | Win/lose count 35.59999999999994/14.199999999999969 (21.39999999999997)\n"
     ]
    },
    {
     "data": {
      "text/html": [
       "<video width=\"320\" height=\"240\" controls>\n",
       "                <source src=\"data:video/mp4;base64,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\" type=\"video/mp4\" />\n",
       "             </video>"
      ],
      "text/plain": [
       "<IPython.core.display.HTML object>"
      ]
     },
     "execution_count": 33,
     "metadata": {},
     "output_type": "execute_result"
    }
   ],
   "source": [
    "# Training\n",
    "env = EnvironmentExploring(grid_size=size, max_time=T, temperature=0.7)\n",
    "agent = DQN_CNN(size, lr=.1, epsilon = 0.9, memory_size=2000, batch_size = 32,n_state=3)\n",
    "train_explore(agent, env, epochs_train,decay=0.8, prefix='cnn_train_explore')\n",
    "HTML(display_videos('cnn_train_explore10.mp4'))"
   ]
  },
  {
   "cell_type": "code",
   "execution_count": 42,
   "metadata": {},
   "outputs": [
    {
     "data": {
      "text/html": [
       "<video width=\"320\" height=\"240\" controls>\n",
       "                <source src=\"data:video/mp4;base64,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\" type=\"video/mp4\" />\n",
       "             </video>"
      ],
      "text/plain": [
       "<IPython.core.display.HTML object>"
      ]
     },
     "execution_count": 42,
     "metadata": {},
     "output_type": "execute_result"
    }
   ],
   "source": [
    "HTML(display_videos('cnn_train_explore40.mp4'))"
   ]
  },
  {
   "cell_type": "code",
   "execution_count": 44,
   "metadata": {
    "scrolled": true
   },
   "outputs": [
    {
     "name": "stdout",
     "output_type": "stream",
     "text": [
      "Win/lose count 24.799999999999976/13.899999999999967. Average score (10.90000000000001)\n",
      "Win/lose count 10.800000000000004/17.399999999999977. Average score (2.150000000000018)\n",
      "Win/lose count 16.400000000000006/16.99999999999997. Average score (1.2333333333333567)\n",
      "Win/lose count 18.0/16.59999999999997. Average score (1.2750000000000252)\n",
      "Win/lose count 30.799999999999955/13.399999999999968. Average score (4.500000000000017)\n",
      "Win/lose count 39.199999999999925/11.299999999999976. Average score (8.400000000000006)\n",
      "Win/lose count 21.999999999999986/15.59999999999996. Average score (8.114285714285723)\n",
      "Win/lose count 39.99999999999992/11.099999999999978. Average score (10.7125)\n",
      "Win/lose count 31.59999999999995/12.199999999999973. Average score (11.677777777777775)\n",
      "Win/lose count 33.199999999999946/11.799999999999974. Average score (12.649999999999995)\n",
      "Win/lose count 30.799999999999955/15.399999999999961. Average score (12.899999999999995)\n",
      "Win/lose count 43.19999999999991/12.29999999999998. Average score (14.39999999999999)\n",
      "Win/lose count 39.199999999999925/12.299999999999972. Average score (15.361538461538448)\n",
      "Win/lose count 45.1999999999999/9.799999999999983. Average score (16.792857142857123)\n",
      "Win/lose count 22.799999999999983/14.399999999999965. Average score (16.233333333333317)\n",
      "Win/lose count 31.199999999999953/13.299999999999969. Average score (16.337499999999984)\n",
      "Win/lose count 27.199999999999967/13.299999999999969. Average score (16.19411764705881)\n",
      "Win/lose count 39.199999999999925/11.299999999999978. Average score (16.84444444444443)\n",
      "Win/lose count 47.199999999999896/8.299999999999986. Average score (18.005263157894717)\n",
      "Win/lose count 29.19999999999996/12.79999999999997. Average score (17.924999999999983)\n",
      "Win/lose count 38.39999999999993/13.499999999999972. Average score (18.25714285714284)\n",
      "Win/lose count 45.5999999999999/9.699999999999982. Average score (19.059090909090887)\n",
      "Win/lose count 34.79999999999994/12.399999999999972. Average score (19.204347826086938)\n",
      "Win/lose count 40.79999999999992/14.899999999999975. Average score (19.48333333333331)\n",
      "Win/lose count 31.99999999999995/13.09999999999997. Average score (19.459999999999976)\n",
      "Win/lose count 27.999999999999964/14.099999999999968. Average score (19.246153846153824)\n",
      "Win/lose count 30.799999999999955/13.399999999999968. Average score (19.177777777777756)\n",
      "Win/lose count 9.200000000000003/17.799999999999983. Average score (18.185714285714266)\n",
      "Win/lose count 44.399999999999906/9.999999999999982. Average score (18.744827586206874)\n",
      "Win/lose count 37.19999999999993/13.799999999999972. Average score (18.899999999999977)\n",
      "Final score: 18.899999999999977\n"
     ]
    },
    {
     "data": {
      "text/html": [
       "<video width=\"320\" height=\"240\" controls>\n",
       "                <source src=\"data:video/mp4;base64,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\" type=\"video/mp4\" />\n",
       "             </video>"
      ],
      "text/plain": [
       "<IPython.core.display.HTML object>"
      ]
     },
     "execution_count": 44,
     "metadata": {},
     "output_type": "execute_result"
    }
   ],
   "source": [
    "# Evaluation\n",
    "test(agent,env,epochs_test,prefix='cnn_test_explore')\n",
    "HTML(display_videos('cnn_test_explore28.mp4'))"
   ]
  },
  {
   "cell_type": "code",
   "execution_count": 48,
   "metadata": {},
   "outputs": [
    {
     "data": {
      "text/html": [
       "<video width=\"320\" height=\"240\" controls>\n",
       "                <source src=\"data:video/mp4;base64,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\" type=\"video/mp4\" />\n",
       "             </video>"
      ],
      "text/plain": [
       "<IPython.core.display.HTML object>"
      ]
     },
     "execution_count": 48,
     "metadata": {},
     "output_type": "execute_result"
    }
   ],
   "source": [
    "HTML(display_videos('cnn_test_explore21.mp4'))"
   ]
  },
  {
   "cell_type": "markdown",
   "metadata": {},
   "source": [
    "***\n",
    "***\n",
    "__BONUS question__ Use the expert DQN from the previous question to generate some winning games. Train a model that mimicks its behavior. Compare the performances."
   ]
  },
  {
   "cell_type": "markdown",
   "metadata": {},
   "source": []
  },
  {
   "cell_type": "markdown",
   "metadata": {},
   "source": [
    "***"
   ]
  }
 ],
 "metadata": {
  "kernelspec": {
   "display_name": "Python 3",
   "language": "python",
   "name": "python3"
  },
  "language_info": {
   "codemirror_mode": {
    "name": "ipython",
    "version": 3
   },
   "file_extension": ".py",
   "mimetype": "text/x-python",
   "name": "python",
   "nbconvert_exporter": "python",
   "pygments_lexer": "ipython3",
   "version": "3.6.8"
  }
 },
 "nbformat": 4,
 "nbformat_minor": 2
}
